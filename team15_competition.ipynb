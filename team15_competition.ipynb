{
 "cells": [
  {
   "cell_type": "markdown",
   "id": "e2036b65",
   "metadata": {},
   "source": [
    "# Environmental Pollution Analysis"
   ]
  },
  {
   "cell_type": "markdown",
   "id": "9efd8b7b",
   "metadata": {},
   "source": [
    "Air Quality Data Set Information:\n",
    "\n",
    "The dataset contains 9358 instances of hourly averaged responses from an array of 5 metal oxide chemical sensors embedded in an Air Quality Chemical Multisensor Device. The device was located on the field in a significantly polluted area, at road level,within an Italian city. Data were recorded from March 2004 to February 2005 (one year)representing the longest freely available recordings of on field deployed air quality chemical sensor devices responses. Ground Truth hourly averaged concentrations for CO, Non Metanic Hydrocarbons, Benzene, Total Nitrogen Oxides (NOx) and Nitrogen Dioxide (NO2) and were provided by a co-located reference certified analyzer. Evidences of cross-sensitivities as well as both concept and sensor drifts are present as described in De Vito et al., Sens. And Act. B, Vol. 129,2,2008 (citation required) eventually affecting sensors concentration estimation capabilities. Missing values are tagged with -200 value. This dataset can be used exclusively for research purposes. Commercial purposes are fully excluded."
   ]
  },
  {
   "cell_type": "markdown",
   "id": "389d82b2",
   "metadata": {},
   "source": [
    "# * Data Collection"
   ]
  },
  {
   "cell_type": "markdown",
   "id": "ce8e3ead",
   "metadata": {},
   "source": [
    "# Reading Dataset to Python Environment"
   ]
  },
  {
   "cell_type": "code",
   "execution_count": 155,
   "id": "703e07bd",
   "metadata": {},
   "outputs": [],
   "source": [
    "import numpy as np\n",
    "import pandas as pd\n",
    "import seaborn as sns\n",
    "import matplotlib.pyplot as plt\n",
    "import warnings\n",
    "warnings.filterwarnings('ignore')"
   ]
  },
  {
   "cell_type": "code",
   "execution_count": 156,
   "id": "10465699",
   "metadata": {},
   "outputs": [],
   "source": [
    "df=pd.read_excel('AirQualityUCI.xlsx')"
   ]
  },
  {
   "cell_type": "code",
   "execution_count": 136,
   "id": "e02d16b5",
   "metadata": {},
   "outputs": [
    {
     "data": {
      "text/html": [
       "<div>\n",
       "<style scoped>\n",
       "    .dataframe tbody tr th:only-of-type {\n",
       "        vertical-align: middle;\n",
       "    }\n",
       "\n",
       "    .dataframe tbody tr th {\n",
       "        vertical-align: top;\n",
       "    }\n",
       "\n",
       "    .dataframe thead th {\n",
       "        text-align: right;\n",
       "    }\n",
       "</style>\n",
       "<table border=\"1\" class=\"dataframe\">\n",
       "  <thead>\n",
       "    <tr style=\"text-align: right;\">\n",
       "      <th></th>\n",
       "      <th>Date</th>\n",
       "      <th>Time</th>\n",
       "      <th>CO(GT)</th>\n",
       "      <th>PT08.S1(CO)</th>\n",
       "      <th>NMHC(GT)</th>\n",
       "      <th>C6H6(GT)</th>\n",
       "      <th>PT08.S2(NMHC)</th>\n",
       "      <th>NOx(GT)</th>\n",
       "      <th>PT08.S3(NOx)</th>\n",
       "      <th>NO2(GT)</th>\n",
       "      <th>PT08.S4(NO2)</th>\n",
       "      <th>PT08.S5(O3)</th>\n",
       "      <th>T</th>\n",
       "      <th>RH</th>\n",
       "      <th>AH</th>\n",
       "      <th>Unnamed: 15</th>\n",
       "      <th>Unnamed: 16</th>\n",
       "    </tr>\n",
       "  </thead>\n",
       "  <tbody>\n",
       "    <tr>\n",
       "      <th>0</th>\n",
       "      <td>2004-03-10</td>\n",
       "      <td>18:00:00</td>\n",
       "      <td>2.6</td>\n",
       "      <td>1360.00</td>\n",
       "      <td>150</td>\n",
       "      <td>11.881723</td>\n",
       "      <td>1045.50</td>\n",
       "      <td>166.0</td>\n",
       "      <td>1056.25</td>\n",
       "      <td>113.0</td>\n",
       "      <td>1692.00</td>\n",
       "      <td>1267.50</td>\n",
       "      <td>13.60</td>\n",
       "      <td>48.875001</td>\n",
       "      <td>0.757754</td>\n",
       "      <td>NaN</td>\n",
       "      <td>NaN</td>\n",
       "    </tr>\n",
       "    <tr>\n",
       "      <th>1</th>\n",
       "      <td>2004-03-10</td>\n",
       "      <td>19:00:00</td>\n",
       "      <td>2.0</td>\n",
       "      <td>1292.25</td>\n",
       "      <td>112</td>\n",
       "      <td>9.397165</td>\n",
       "      <td>954.75</td>\n",
       "      <td>103.0</td>\n",
       "      <td>1173.75</td>\n",
       "      <td>92.0</td>\n",
       "      <td>1558.75</td>\n",
       "      <td>972.25</td>\n",
       "      <td>13.30</td>\n",
       "      <td>47.700000</td>\n",
       "      <td>0.725487</td>\n",
       "      <td>NaN</td>\n",
       "      <td>NaN</td>\n",
       "    </tr>\n",
       "    <tr>\n",
       "      <th>2</th>\n",
       "      <td>2004-03-10</td>\n",
       "      <td>20:00:00</td>\n",
       "      <td>2.2</td>\n",
       "      <td>1402.00</td>\n",
       "      <td>88</td>\n",
       "      <td>8.997817</td>\n",
       "      <td>939.25</td>\n",
       "      <td>131.0</td>\n",
       "      <td>1140.00</td>\n",
       "      <td>114.0</td>\n",
       "      <td>1554.50</td>\n",
       "      <td>1074.00</td>\n",
       "      <td>11.90</td>\n",
       "      <td>53.975000</td>\n",
       "      <td>0.750239</td>\n",
       "      <td>NaN</td>\n",
       "      <td>NaN</td>\n",
       "    </tr>\n",
       "    <tr>\n",
       "      <th>3</th>\n",
       "      <td>2004-03-10</td>\n",
       "      <td>21:00:00</td>\n",
       "      <td>2.2</td>\n",
       "      <td>1375.50</td>\n",
       "      <td>80</td>\n",
       "      <td>9.228796</td>\n",
       "      <td>948.25</td>\n",
       "      <td>172.0</td>\n",
       "      <td>1092.00</td>\n",
       "      <td>122.0</td>\n",
       "      <td>1583.75</td>\n",
       "      <td>1203.25</td>\n",
       "      <td>11.00</td>\n",
       "      <td>60.000000</td>\n",
       "      <td>0.786713</td>\n",
       "      <td>NaN</td>\n",
       "      <td>NaN</td>\n",
       "    </tr>\n",
       "    <tr>\n",
       "      <th>4</th>\n",
       "      <td>2004-03-10</td>\n",
       "      <td>22:00:00</td>\n",
       "      <td>1.6</td>\n",
       "      <td>1272.25</td>\n",
       "      <td>51</td>\n",
       "      <td>6.518224</td>\n",
       "      <td>835.50</td>\n",
       "      <td>131.0</td>\n",
       "      <td>1205.00</td>\n",
       "      <td>116.0</td>\n",
       "      <td>1490.00</td>\n",
       "      <td>1110.00</td>\n",
       "      <td>11.15</td>\n",
       "      <td>59.575001</td>\n",
       "      <td>0.788794</td>\n",
       "      <td>NaN</td>\n",
       "      <td>NaN</td>\n",
       "    </tr>\n",
       "  </tbody>\n",
       "</table>\n",
       "</div>"
      ],
      "text/plain": [
       "        Date      Time  CO(GT)  PT08.S1(CO)  NMHC(GT)   C6H6(GT)  \\\n",
       "0 2004-03-10  18:00:00     2.6      1360.00       150  11.881723   \n",
       "1 2004-03-10  19:00:00     2.0      1292.25       112   9.397165   \n",
       "2 2004-03-10  20:00:00     2.2      1402.00        88   8.997817   \n",
       "3 2004-03-10  21:00:00     2.2      1375.50        80   9.228796   \n",
       "4 2004-03-10  22:00:00     1.6      1272.25        51   6.518224   \n",
       "\n",
       "   PT08.S2(NMHC)  NOx(GT)  PT08.S3(NOx)  NO2(GT)  PT08.S4(NO2)  PT08.S5(O3)  \\\n",
       "0        1045.50    166.0       1056.25    113.0       1692.00      1267.50   \n",
       "1         954.75    103.0       1173.75     92.0       1558.75       972.25   \n",
       "2         939.25    131.0       1140.00    114.0       1554.50      1074.00   \n",
       "3         948.25    172.0       1092.00    122.0       1583.75      1203.25   \n",
       "4         835.50    131.0       1205.00    116.0       1490.00      1110.00   \n",
       "\n",
       "       T         RH        AH  Unnamed: 15  Unnamed: 16  \n",
       "0  13.60  48.875001  0.757754          NaN          NaN  \n",
       "1  13.30  47.700000  0.725487          NaN          NaN  \n",
       "2  11.90  53.975000  0.750239          NaN          NaN  \n",
       "3  11.00  60.000000  0.786713          NaN          NaN  \n",
       "4  11.15  59.575001  0.788794          NaN          NaN  "
      ]
     },
     "execution_count": 136,
     "metadata": {},
     "output_type": "execute_result"
    }
   ],
   "source": [
    "df.head()"
   ]
  },
  {
   "cell_type": "code",
   "execution_count": 157,
   "id": "7c56fa08",
   "metadata": {},
   "outputs": [],
   "source": [
    "del df['Unnamed: 15'] \n",
    "del df['Unnamed: 16'] "
   ]
  },
  {
   "cell_type": "markdown",
   "id": "dadbd960",
   "metadata": {},
   "source": [
    "# Basic Details of the Dataset"
   ]
  },
  {
   "cell_type": "code",
   "execution_count": 158,
   "id": "4b1f9dc9",
   "metadata": {},
   "outputs": [
    {
     "data": {
      "text/plain": [
       "(9357, 15)"
      ]
     },
     "execution_count": 158,
     "metadata": {},
     "output_type": "execute_result"
    }
   ],
   "source": [
    "df.shape"
   ]
  },
  {
   "cell_type": "code",
   "execution_count": 159,
   "id": "3a8f36e5",
   "metadata": {},
   "outputs": [
    {
     "name": "stdout",
     "output_type": "stream",
     "text": [
      "<class 'pandas.core.frame.DataFrame'>\n",
      "RangeIndex: 9357 entries, 0 to 9356\n",
      "Data columns (total 15 columns):\n",
      " #   Column         Non-Null Count  Dtype         \n",
      "---  ------         --------------  -----         \n",
      " 0   Date           9357 non-null   datetime64[ns]\n",
      " 1   Time           9357 non-null   object        \n",
      " 2   CO(GT)         9357 non-null   float64       \n",
      " 3   PT08.S1(CO)    9357 non-null   float64       \n",
      " 4   NMHC(GT)       9357 non-null   int64         \n",
      " 5   C6H6(GT)       9357 non-null   float64       \n",
      " 6   PT08.S2(NMHC)  9357 non-null   float64       \n",
      " 7   NOx(GT)        9357 non-null   float64       \n",
      " 8   PT08.S3(NOx)   9357 non-null   float64       \n",
      " 9   NO2(GT)        9357 non-null   float64       \n",
      " 10  PT08.S4(NO2)   9357 non-null   float64       \n",
      " 11  PT08.S5(O3)    9357 non-null   float64       \n",
      " 12  T              9357 non-null   float64       \n",
      " 13  RH             9357 non-null   float64       \n",
      " 14  AH             9357 non-null   float64       \n",
      "dtypes: datetime64[ns](1), float64(12), int64(1), object(1)\n",
      "memory usage: 1.1+ MB\n"
     ]
    }
   ],
   "source": [
    "df.info()"
   ]
  },
  {
   "cell_type": "code",
   "execution_count": 160,
   "id": "7af0d880",
   "metadata": {},
   "outputs": [
    {
     "data": {
      "text/plain": [
       "Index(['Date', 'Time', 'CO(GT)', 'PT08.S1(CO)', 'NMHC(GT)', 'C6H6(GT)',\n",
       "       'PT08.S2(NMHC)', 'NOx(GT)', 'PT08.S3(NOx)', 'NO2(GT)', 'PT08.S4(NO2)',\n",
       "       'PT08.S5(O3)', 'T', 'RH', 'AH'],\n",
       "      dtype='object')"
      ]
     },
     "execution_count": 160,
     "metadata": {},
     "output_type": "execute_result"
    }
   ],
   "source": [
    "df.columns"
   ]
  },
  {
   "cell_type": "code",
   "execution_count": 161,
   "id": "84ab8e40",
   "metadata": {},
   "outputs": [
    {
     "data": {
      "text/html": [
       "<div>\n",
       "<style scoped>\n",
       "    .dataframe tbody tr th:only-of-type {\n",
       "        vertical-align: middle;\n",
       "    }\n",
       "\n",
       "    .dataframe tbody tr th {\n",
       "        vertical-align: top;\n",
       "    }\n",
       "\n",
       "    .dataframe thead th {\n",
       "        text-align: right;\n",
       "    }\n",
       "</style>\n",
       "<table border=\"1\" class=\"dataframe\">\n",
       "  <thead>\n",
       "    <tr style=\"text-align: right;\">\n",
       "      <th></th>\n",
       "      <th>CO(GT)</th>\n",
       "      <th>PT08.S1(CO)</th>\n",
       "      <th>NMHC(GT)</th>\n",
       "      <th>C6H6(GT)</th>\n",
       "      <th>PT08.S2(NMHC)</th>\n",
       "      <th>NOx(GT)</th>\n",
       "      <th>PT08.S3(NOx)</th>\n",
       "      <th>NO2(GT)</th>\n",
       "      <th>PT08.S4(NO2)</th>\n",
       "      <th>PT08.S5(O3)</th>\n",
       "      <th>T</th>\n",
       "      <th>RH</th>\n",
       "      <th>AH</th>\n",
       "    </tr>\n",
       "  </thead>\n",
       "  <tbody>\n",
       "    <tr>\n",
       "      <th>count</th>\n",
       "      <td>9357.000000</td>\n",
       "      <td>9357.000000</td>\n",
       "      <td>9357.000000</td>\n",
       "      <td>9357.000000</td>\n",
       "      <td>9357.000000</td>\n",
       "      <td>9357.000000</td>\n",
       "      <td>9357.000000</td>\n",
       "      <td>9357.000000</td>\n",
       "      <td>9357.000000</td>\n",
       "      <td>9357.000000</td>\n",
       "      <td>9357.000000</td>\n",
       "      <td>9357.000000</td>\n",
       "      <td>9357.000000</td>\n",
       "    </tr>\n",
       "    <tr>\n",
       "      <th>mean</th>\n",
       "      <td>-34.207524</td>\n",
       "      <td>1048.869652</td>\n",
       "      <td>-159.090093</td>\n",
       "      <td>1.865576</td>\n",
       "      <td>894.475963</td>\n",
       "      <td>168.604200</td>\n",
       "      <td>794.872333</td>\n",
       "      <td>58.135898</td>\n",
       "      <td>1391.363266</td>\n",
       "      <td>974.951534</td>\n",
       "      <td>9.776600</td>\n",
       "      <td>39.483611</td>\n",
       "      <td>-6.837604</td>\n",
       "    </tr>\n",
       "    <tr>\n",
       "      <th>std</th>\n",
       "      <td>77.657170</td>\n",
       "      <td>329.817015</td>\n",
       "      <td>139.789093</td>\n",
       "      <td>41.380154</td>\n",
       "      <td>342.315902</td>\n",
       "      <td>257.424561</td>\n",
       "      <td>321.977031</td>\n",
       "      <td>126.931428</td>\n",
       "      <td>467.192382</td>\n",
       "      <td>456.922728</td>\n",
       "      <td>43.203438</td>\n",
       "      <td>51.215645</td>\n",
       "      <td>38.976670</td>\n",
       "    </tr>\n",
       "    <tr>\n",
       "      <th>min</th>\n",
       "      <td>-200.000000</td>\n",
       "      <td>-200.000000</td>\n",
       "      <td>-200.000000</td>\n",
       "      <td>-200.000000</td>\n",
       "      <td>-200.000000</td>\n",
       "      <td>-200.000000</td>\n",
       "      <td>-200.000000</td>\n",
       "      <td>-200.000000</td>\n",
       "      <td>-200.000000</td>\n",
       "      <td>-200.000000</td>\n",
       "      <td>-200.000000</td>\n",
       "      <td>-200.000000</td>\n",
       "      <td>-200.000000</td>\n",
       "    </tr>\n",
       "    <tr>\n",
       "      <th>25%</th>\n",
       "      <td>0.600000</td>\n",
       "      <td>921.000000</td>\n",
       "      <td>-200.000000</td>\n",
       "      <td>4.004958</td>\n",
       "      <td>711.000000</td>\n",
       "      <td>50.000000</td>\n",
       "      <td>637.000000</td>\n",
       "      <td>53.000000</td>\n",
       "      <td>1184.750000</td>\n",
       "      <td>699.750000</td>\n",
       "      <td>10.950000</td>\n",
       "      <td>34.050000</td>\n",
       "      <td>0.692275</td>\n",
       "    </tr>\n",
       "    <tr>\n",
       "      <th>50%</th>\n",
       "      <td>1.500000</td>\n",
       "      <td>1052.500000</td>\n",
       "      <td>-200.000000</td>\n",
       "      <td>7.886653</td>\n",
       "      <td>894.500000</td>\n",
       "      <td>141.000000</td>\n",
       "      <td>794.250000</td>\n",
       "      <td>96.000000</td>\n",
       "      <td>1445.500000</td>\n",
       "      <td>942.000000</td>\n",
       "      <td>17.200000</td>\n",
       "      <td>48.550000</td>\n",
       "      <td>0.976823</td>\n",
       "    </tr>\n",
       "    <tr>\n",
       "      <th>75%</th>\n",
       "      <td>2.600000</td>\n",
       "      <td>1221.250000</td>\n",
       "      <td>-200.000000</td>\n",
       "      <td>13.636091</td>\n",
       "      <td>1104.750000</td>\n",
       "      <td>284.200000</td>\n",
       "      <td>960.250000</td>\n",
       "      <td>133.000000</td>\n",
       "      <td>1662.000000</td>\n",
       "      <td>1255.250000</td>\n",
       "      <td>24.075000</td>\n",
       "      <td>61.875000</td>\n",
       "      <td>1.296223</td>\n",
       "    </tr>\n",
       "    <tr>\n",
       "      <th>max</th>\n",
       "      <td>11.900000</td>\n",
       "      <td>2039.750000</td>\n",
       "      <td>1189.000000</td>\n",
       "      <td>63.741476</td>\n",
       "      <td>2214.000000</td>\n",
       "      <td>1479.000000</td>\n",
       "      <td>2682.750000</td>\n",
       "      <td>339.700000</td>\n",
       "      <td>2775.000000</td>\n",
       "      <td>2522.750000</td>\n",
       "      <td>44.600000</td>\n",
       "      <td>88.725000</td>\n",
       "      <td>2.231036</td>\n",
       "    </tr>\n",
       "  </tbody>\n",
       "</table>\n",
       "</div>"
      ],
      "text/plain": [
       "            CO(GT)  PT08.S1(CO)     NMHC(GT)     C6H6(GT)  PT08.S2(NMHC)  \\\n",
       "count  9357.000000  9357.000000  9357.000000  9357.000000    9357.000000   \n",
       "mean    -34.207524  1048.869652  -159.090093     1.865576     894.475963   \n",
       "std      77.657170   329.817015   139.789093    41.380154     342.315902   \n",
       "min    -200.000000  -200.000000  -200.000000  -200.000000    -200.000000   \n",
       "25%       0.600000   921.000000  -200.000000     4.004958     711.000000   \n",
       "50%       1.500000  1052.500000  -200.000000     7.886653     894.500000   \n",
       "75%       2.600000  1221.250000  -200.000000    13.636091    1104.750000   \n",
       "max      11.900000  2039.750000  1189.000000    63.741476    2214.000000   \n",
       "\n",
       "           NOx(GT)  PT08.S3(NOx)      NO2(GT)  PT08.S4(NO2)  PT08.S5(O3)  \\\n",
       "count  9357.000000   9357.000000  9357.000000   9357.000000  9357.000000   \n",
       "mean    168.604200    794.872333    58.135898   1391.363266   974.951534   \n",
       "std     257.424561    321.977031   126.931428    467.192382   456.922728   \n",
       "min    -200.000000   -200.000000  -200.000000   -200.000000  -200.000000   \n",
       "25%      50.000000    637.000000    53.000000   1184.750000   699.750000   \n",
       "50%     141.000000    794.250000    96.000000   1445.500000   942.000000   \n",
       "75%     284.200000    960.250000   133.000000   1662.000000  1255.250000   \n",
       "max    1479.000000   2682.750000   339.700000   2775.000000  2522.750000   \n",
       "\n",
       "                 T           RH           AH  \n",
       "count  9357.000000  9357.000000  9357.000000  \n",
       "mean      9.776600    39.483611    -6.837604  \n",
       "std      43.203438    51.215645    38.976670  \n",
       "min    -200.000000  -200.000000  -200.000000  \n",
       "25%      10.950000    34.050000     0.692275  \n",
       "50%      17.200000    48.550000     0.976823  \n",
       "75%      24.075000    61.875000     1.296223  \n",
       "max      44.600000    88.725000     2.231036  "
      ]
     },
     "execution_count": 161,
     "metadata": {},
     "output_type": "execute_result"
    }
   ],
   "source": [
    "df.describe()"
   ]
  },
  {
   "cell_type": "code",
   "execution_count": 162,
   "id": "da6e86c8",
   "metadata": {},
   "outputs": [
    {
     "data": {
      "text/plain": [
       "Date             datetime64[ns]\n",
       "Time                     object\n",
       "CO(GT)                  float64\n",
       "PT08.S1(CO)             float64\n",
       "NMHC(GT)                  int64\n",
       "C6H6(GT)                float64\n",
       "PT08.S2(NMHC)           float64\n",
       "NOx(GT)                 float64\n",
       "PT08.S3(NOx)            float64\n",
       "NO2(GT)                 float64\n",
       "PT08.S4(NO2)            float64\n",
       "PT08.S5(O3)             float64\n",
       "T                       float64\n",
       "RH                      float64\n",
       "AH                      float64\n",
       "dtype: object"
      ]
     },
     "execution_count": 162,
     "metadata": {},
     "output_type": "execute_result"
    }
   ],
   "source": [
    "df.dtypes"
   ]
  },
  {
   "cell_type": "markdown",
   "id": "0609daf6",
   "metadata": {},
   "source": [
    "# * Data Preprocessing"
   ]
  },
  {
   "cell_type": "markdown",
   "id": "e38a44ac",
   "metadata": {},
   "source": [
    "# 1.Missing Value Handling"
   ]
  },
  {
   "cell_type": "code",
   "execution_count": 163,
   "id": "60e87a1d",
   "metadata": {},
   "outputs": [
    {
     "data": {
      "text/plain": [
       "Date             datetime64[ns]\n",
       "Time                     object\n",
       "CO(GT)                  float64\n",
       "PT08.S1(CO)             float64\n",
       "NMHC(GT)                  int64\n",
       "C6H6(GT)                float64\n",
       "PT08.S2(NMHC)           float64\n",
       "NOx(GT)                 float64\n",
       "PT08.S3(NOx)            float64\n",
       "NO2(GT)                 float64\n",
       "PT08.S4(NO2)            float64\n",
       "PT08.S5(O3)             float64\n",
       "T                       float64\n",
       "RH                      float64\n",
       "AH                      float64\n",
       "dtype: object"
      ]
     },
     "execution_count": 163,
     "metadata": {},
     "output_type": "execute_result"
    }
   ],
   "source": [
    "df.dtypes"
   ]
  },
  {
   "cell_type": "code",
   "execution_count": 187,
   "id": "8ef55e62",
   "metadata": {},
   "outputs": [
    {
     "name": "stdout",
     "output_type": "stream",
     "text": [
      "Date : 0\n",
      "Time : 0\n",
      "CO(GT) : 1683\n",
      "PT08.S1(CO) : 366\n",
      "NMHC(GT) : 8443\n",
      "C6H6(GT) : 366\n",
      "PT08.S2(NMHC) : 366\n",
      "NOx(GT) : 1639\n",
      "PT08.S3(NOx) : 366\n",
      "NO2(GT) : 1642\n",
      "PT08.S4(NO2) : 366\n",
      "PT08.S5(O3) : 366\n",
      "T : 366\n",
      "RH : 366\n",
      "AH : 366\n"
     ]
    }
   ],
   "source": [
    "# missing values are denoted as -200 in the dataset\n",
    "for i in df.columns:\n",
    "    print(i,\":\",df[i].where(df[i]==-200).count())"
   ]
  },
  {
   "cell_type": "code",
   "execution_count": 188,
   "id": "43d29ebf",
   "metadata": {},
   "outputs": [],
   "source": [
    "df1=df.select_dtypes(exclude=['datetime64','object'])"
   ]
  },
  {
   "cell_type": "code",
   "execution_count": 189,
   "id": "dafeabc7",
   "metadata": {},
   "outputs": [
    {
     "data": {
      "text/html": [
       "<div>\n",
       "<style scoped>\n",
       "    .dataframe tbody tr th:only-of-type {\n",
       "        vertical-align: middle;\n",
       "    }\n",
       "\n",
       "    .dataframe tbody tr th {\n",
       "        vertical-align: top;\n",
       "    }\n",
       "\n",
       "    .dataframe thead th {\n",
       "        text-align: right;\n",
       "    }\n",
       "</style>\n",
       "<table border=\"1\" class=\"dataframe\">\n",
       "  <thead>\n",
       "    <tr style=\"text-align: right;\">\n",
       "      <th></th>\n",
       "      <th>CO(GT)</th>\n",
       "      <th>PT08.S1(CO)</th>\n",
       "      <th>NMHC(GT)</th>\n",
       "      <th>C6H6(GT)</th>\n",
       "      <th>PT08.S2(NMHC)</th>\n",
       "      <th>NOx(GT)</th>\n",
       "      <th>PT08.S3(NOx)</th>\n",
       "      <th>NO2(GT)</th>\n",
       "      <th>PT08.S4(NO2)</th>\n",
       "      <th>PT08.S5(O3)</th>\n",
       "      <th>T</th>\n",
       "      <th>RH</th>\n",
       "      <th>AH</th>\n",
       "    </tr>\n",
       "  </thead>\n",
       "  <tbody>\n",
       "    <tr>\n",
       "      <th>0</th>\n",
       "      <td>2.6</td>\n",
       "      <td>1360.00</td>\n",
       "      <td>150</td>\n",
       "      <td>11.881723</td>\n",
       "      <td>1045.50</td>\n",
       "      <td>166.0</td>\n",
       "      <td>1056.25</td>\n",
       "      <td>113.0</td>\n",
       "      <td>1692.00</td>\n",
       "      <td>1267.50</td>\n",
       "      <td>13.600</td>\n",
       "      <td>48.875001</td>\n",
       "      <td>0.757754</td>\n",
       "    </tr>\n",
       "    <tr>\n",
       "      <th>1</th>\n",
       "      <td>2.0</td>\n",
       "      <td>1292.25</td>\n",
       "      <td>112</td>\n",
       "      <td>9.397165</td>\n",
       "      <td>954.75</td>\n",
       "      <td>103.0</td>\n",
       "      <td>1173.75</td>\n",
       "      <td>92.0</td>\n",
       "      <td>1558.75</td>\n",
       "      <td>972.25</td>\n",
       "      <td>13.300</td>\n",
       "      <td>47.700000</td>\n",
       "      <td>0.725487</td>\n",
       "    </tr>\n",
       "    <tr>\n",
       "      <th>2</th>\n",
       "      <td>2.2</td>\n",
       "      <td>1402.00</td>\n",
       "      <td>88</td>\n",
       "      <td>8.997817</td>\n",
       "      <td>939.25</td>\n",
       "      <td>131.0</td>\n",
       "      <td>1140.00</td>\n",
       "      <td>114.0</td>\n",
       "      <td>1554.50</td>\n",
       "      <td>1074.00</td>\n",
       "      <td>11.900</td>\n",
       "      <td>53.975000</td>\n",
       "      <td>0.750239</td>\n",
       "    </tr>\n",
       "    <tr>\n",
       "      <th>3</th>\n",
       "      <td>2.2</td>\n",
       "      <td>1375.50</td>\n",
       "      <td>80</td>\n",
       "      <td>9.228796</td>\n",
       "      <td>948.25</td>\n",
       "      <td>172.0</td>\n",
       "      <td>1092.00</td>\n",
       "      <td>122.0</td>\n",
       "      <td>1583.75</td>\n",
       "      <td>1203.25</td>\n",
       "      <td>11.000</td>\n",
       "      <td>60.000000</td>\n",
       "      <td>0.786713</td>\n",
       "    </tr>\n",
       "    <tr>\n",
       "      <th>4</th>\n",
       "      <td>1.6</td>\n",
       "      <td>1272.25</td>\n",
       "      <td>51</td>\n",
       "      <td>6.518224</td>\n",
       "      <td>835.50</td>\n",
       "      <td>131.0</td>\n",
       "      <td>1205.00</td>\n",
       "      <td>116.0</td>\n",
       "      <td>1490.00</td>\n",
       "      <td>1110.00</td>\n",
       "      <td>11.150</td>\n",
       "      <td>59.575001</td>\n",
       "      <td>0.788794</td>\n",
       "    </tr>\n",
       "    <tr>\n",
       "      <th>...</th>\n",
       "      <td>...</td>\n",
       "      <td>...</td>\n",
       "      <td>...</td>\n",
       "      <td>...</td>\n",
       "      <td>...</td>\n",
       "      <td>...</td>\n",
       "      <td>...</td>\n",
       "      <td>...</td>\n",
       "      <td>...</td>\n",
       "      <td>...</td>\n",
       "      <td>...</td>\n",
       "      <td>...</td>\n",
       "      <td>...</td>\n",
       "    </tr>\n",
       "    <tr>\n",
       "      <th>9352</th>\n",
       "      <td>3.1</td>\n",
       "      <td>1314.25</td>\n",
       "      <td>-200</td>\n",
       "      <td>13.529605</td>\n",
       "      <td>1101.25</td>\n",
       "      <td>471.7</td>\n",
       "      <td>538.50</td>\n",
       "      <td>189.8</td>\n",
       "      <td>1374.25</td>\n",
       "      <td>1728.50</td>\n",
       "      <td>21.850</td>\n",
       "      <td>29.250000</td>\n",
       "      <td>0.756824</td>\n",
       "    </tr>\n",
       "    <tr>\n",
       "      <th>9353</th>\n",
       "      <td>2.4</td>\n",
       "      <td>1162.50</td>\n",
       "      <td>-200</td>\n",
       "      <td>11.355157</td>\n",
       "      <td>1027.00</td>\n",
       "      <td>353.3</td>\n",
       "      <td>603.75</td>\n",
       "      <td>179.2</td>\n",
       "      <td>1263.50</td>\n",
       "      <td>1269.00</td>\n",
       "      <td>24.325</td>\n",
       "      <td>23.725000</td>\n",
       "      <td>0.711864</td>\n",
       "    </tr>\n",
       "    <tr>\n",
       "      <th>9354</th>\n",
       "      <td>2.4</td>\n",
       "      <td>1142.00</td>\n",
       "      <td>-200</td>\n",
       "      <td>12.374538</td>\n",
       "      <td>1062.50</td>\n",
       "      <td>293.0</td>\n",
       "      <td>603.25</td>\n",
       "      <td>174.7</td>\n",
       "      <td>1240.75</td>\n",
       "      <td>1092.00</td>\n",
       "      <td>26.900</td>\n",
       "      <td>18.350000</td>\n",
       "      <td>0.640649</td>\n",
       "    </tr>\n",
       "    <tr>\n",
       "      <th>9355</th>\n",
       "      <td>2.1</td>\n",
       "      <td>1002.50</td>\n",
       "      <td>-200</td>\n",
       "      <td>9.547187</td>\n",
       "      <td>960.50</td>\n",
       "      <td>234.5</td>\n",
       "      <td>701.50</td>\n",
       "      <td>155.7</td>\n",
       "      <td>1041.00</td>\n",
       "      <td>769.75</td>\n",
       "      <td>28.325</td>\n",
       "      <td>13.550000</td>\n",
       "      <td>0.513866</td>\n",
       "    </tr>\n",
       "    <tr>\n",
       "      <th>9356</th>\n",
       "      <td>2.2</td>\n",
       "      <td>1070.75</td>\n",
       "      <td>-200</td>\n",
       "      <td>11.932060</td>\n",
       "      <td>1047.25</td>\n",
       "      <td>265.2</td>\n",
       "      <td>654.00</td>\n",
       "      <td>167.7</td>\n",
       "      <td>1128.50</td>\n",
       "      <td>816.00</td>\n",
       "      <td>28.500</td>\n",
       "      <td>13.125000</td>\n",
       "      <td>0.502804</td>\n",
       "    </tr>\n",
       "  </tbody>\n",
       "</table>\n",
       "<p>9357 rows × 13 columns</p>\n",
       "</div>"
      ],
      "text/plain": [
       "      CO(GT)  PT08.S1(CO)  NMHC(GT)   C6H6(GT)  PT08.S2(NMHC)  NOx(GT)  \\\n",
       "0        2.6      1360.00       150  11.881723        1045.50    166.0   \n",
       "1        2.0      1292.25       112   9.397165         954.75    103.0   \n",
       "2        2.2      1402.00        88   8.997817         939.25    131.0   \n",
       "3        2.2      1375.50        80   9.228796         948.25    172.0   \n",
       "4        1.6      1272.25        51   6.518224         835.50    131.0   \n",
       "...      ...          ...       ...        ...            ...      ...   \n",
       "9352     3.1      1314.25      -200  13.529605        1101.25    471.7   \n",
       "9353     2.4      1162.50      -200  11.355157        1027.00    353.3   \n",
       "9354     2.4      1142.00      -200  12.374538        1062.50    293.0   \n",
       "9355     2.1      1002.50      -200   9.547187         960.50    234.5   \n",
       "9356     2.2      1070.75      -200  11.932060        1047.25    265.2   \n",
       "\n",
       "      PT08.S3(NOx)  NO2(GT)  PT08.S4(NO2)  PT08.S5(O3)       T         RH  \\\n",
       "0          1056.25    113.0       1692.00      1267.50  13.600  48.875001   \n",
       "1          1173.75     92.0       1558.75       972.25  13.300  47.700000   \n",
       "2          1140.00    114.0       1554.50      1074.00  11.900  53.975000   \n",
       "3          1092.00    122.0       1583.75      1203.25  11.000  60.000000   \n",
       "4          1205.00    116.0       1490.00      1110.00  11.150  59.575001   \n",
       "...            ...      ...           ...          ...     ...        ...   \n",
       "9352        538.50    189.8       1374.25      1728.50  21.850  29.250000   \n",
       "9353        603.75    179.2       1263.50      1269.00  24.325  23.725000   \n",
       "9354        603.25    174.7       1240.75      1092.00  26.900  18.350000   \n",
       "9355        701.50    155.7       1041.00       769.75  28.325  13.550000   \n",
       "9356        654.00    167.7       1128.50       816.00  28.500  13.125000   \n",
       "\n",
       "            AH  \n",
       "0     0.757754  \n",
       "1     0.725487  \n",
       "2     0.750239  \n",
       "3     0.786713  \n",
       "4     0.788794  \n",
       "...        ...  \n",
       "9352  0.756824  \n",
       "9353  0.711864  \n",
       "9354  0.640649  \n",
       "9355  0.513866  \n",
       "9356  0.502804  \n",
       "\n",
       "[9357 rows x 13 columns]"
      ]
     },
     "execution_count": 189,
     "metadata": {},
     "output_type": "execute_result"
    }
   ],
   "source": [
    "df1"
   ]
  },
  {
   "cell_type": "code",
   "execution_count": 190,
   "id": "3a66c6e4",
   "metadata": {},
   "outputs": [
    {
     "data": {
      "text/plain": [
       "CO(GT)           1683\n",
       "PT08.S1(CO)       366\n",
       "NMHC(GT)         8443\n",
       "C6H6(GT)          366\n",
       "PT08.S2(NMHC)     366\n",
       "NOx(GT)          1639\n",
       "PT08.S3(NOx)      366\n",
       "NO2(GT)          1642\n",
       "PT08.S4(NO2)      366\n",
       "PT08.S5(O3)       366\n",
       "T                 366\n",
       "RH                366\n",
       "AH                366\n",
       "dtype: int64"
      ]
     },
     "execution_count": 190,
     "metadata": {},
     "output_type": "execute_result"
    }
   ],
   "source": [
    "# Replace the missing value(-200) as nan\n",
    "for i in df1.columns:\n",
    "    df1[i]=np.where(df1[i]==-200,np.nan,df1[i])\n",
    "df1.isnull().sum()"
   ]
  },
  {
   "cell_type": "code",
   "execution_count": 191,
   "id": "ed2ef093",
   "metadata": {},
   "outputs": [],
   "source": [
    "# Drop the feature NMHC(GT) because 8443 missing values are there\n",
    "\n",
    "df1=df1.drop(['NMHC(GT)'], axis=1)"
   ]
  },
  {
   "cell_type": "code",
   "execution_count": 192,
   "id": "e3f29b88",
   "metadata": {},
   "outputs": [
    {
     "data": {
      "text/html": [
       "<div>\n",
       "<style scoped>\n",
       "    .dataframe tbody tr th:only-of-type {\n",
       "        vertical-align: middle;\n",
       "    }\n",
       "\n",
       "    .dataframe tbody tr th {\n",
       "        vertical-align: top;\n",
       "    }\n",
       "\n",
       "    .dataframe thead th {\n",
       "        text-align: right;\n",
       "    }\n",
       "</style>\n",
       "<table border=\"1\" class=\"dataframe\">\n",
       "  <thead>\n",
       "    <tr style=\"text-align: right;\">\n",
       "      <th></th>\n",
       "      <th>CO(GT)</th>\n",
       "      <th>PT08.S1(CO)</th>\n",
       "      <th>C6H6(GT)</th>\n",
       "      <th>PT08.S2(NMHC)</th>\n",
       "      <th>NOx(GT)</th>\n",
       "      <th>PT08.S3(NOx)</th>\n",
       "      <th>NO2(GT)</th>\n",
       "      <th>PT08.S4(NO2)</th>\n",
       "      <th>PT08.S5(O3)</th>\n",
       "      <th>T</th>\n",
       "      <th>RH</th>\n",
       "      <th>AH</th>\n",
       "    </tr>\n",
       "  </thead>\n",
       "  <tbody>\n",
       "    <tr>\n",
       "      <th>0</th>\n",
       "      <td>2.6</td>\n",
       "      <td>1360.00</td>\n",
       "      <td>11.881723</td>\n",
       "      <td>1045.50</td>\n",
       "      <td>166.0</td>\n",
       "      <td>1056.25</td>\n",
       "      <td>113.0</td>\n",
       "      <td>1692.00</td>\n",
       "      <td>1267.50</td>\n",
       "      <td>13.60</td>\n",
       "      <td>48.875001</td>\n",
       "      <td>0.757754</td>\n",
       "    </tr>\n",
       "    <tr>\n",
       "      <th>1</th>\n",
       "      <td>2.0</td>\n",
       "      <td>1292.25</td>\n",
       "      <td>9.397165</td>\n",
       "      <td>954.75</td>\n",
       "      <td>103.0</td>\n",
       "      <td>1173.75</td>\n",
       "      <td>92.0</td>\n",
       "      <td>1558.75</td>\n",
       "      <td>972.25</td>\n",
       "      <td>13.30</td>\n",
       "      <td>47.700000</td>\n",
       "      <td>0.725487</td>\n",
       "    </tr>\n",
       "    <tr>\n",
       "      <th>2</th>\n",
       "      <td>2.2</td>\n",
       "      <td>1402.00</td>\n",
       "      <td>8.997817</td>\n",
       "      <td>939.25</td>\n",
       "      <td>131.0</td>\n",
       "      <td>1140.00</td>\n",
       "      <td>114.0</td>\n",
       "      <td>1554.50</td>\n",
       "      <td>1074.00</td>\n",
       "      <td>11.90</td>\n",
       "      <td>53.975000</td>\n",
       "      <td>0.750239</td>\n",
       "    </tr>\n",
       "    <tr>\n",
       "      <th>3</th>\n",
       "      <td>2.2</td>\n",
       "      <td>1375.50</td>\n",
       "      <td>9.228796</td>\n",
       "      <td>948.25</td>\n",
       "      <td>172.0</td>\n",
       "      <td>1092.00</td>\n",
       "      <td>122.0</td>\n",
       "      <td>1583.75</td>\n",
       "      <td>1203.25</td>\n",
       "      <td>11.00</td>\n",
       "      <td>60.000000</td>\n",
       "      <td>0.786713</td>\n",
       "    </tr>\n",
       "    <tr>\n",
       "      <th>4</th>\n",
       "      <td>1.6</td>\n",
       "      <td>1272.25</td>\n",
       "      <td>6.518224</td>\n",
       "      <td>835.50</td>\n",
       "      <td>131.0</td>\n",
       "      <td>1205.00</td>\n",
       "      <td>116.0</td>\n",
       "      <td>1490.00</td>\n",
       "      <td>1110.00</td>\n",
       "      <td>11.15</td>\n",
       "      <td>59.575001</td>\n",
       "      <td>0.788794</td>\n",
       "    </tr>\n",
       "  </tbody>\n",
       "</table>\n",
       "</div>"
      ],
      "text/plain": [
       "   CO(GT)  PT08.S1(CO)   C6H6(GT)  PT08.S2(NMHC)  NOx(GT)  PT08.S3(NOx)  \\\n",
       "0     2.6      1360.00  11.881723        1045.50    166.0       1056.25   \n",
       "1     2.0      1292.25   9.397165         954.75    103.0       1173.75   \n",
       "2     2.2      1402.00   8.997817         939.25    131.0       1140.00   \n",
       "3     2.2      1375.50   9.228796         948.25    172.0       1092.00   \n",
       "4     1.6      1272.25   6.518224         835.50    131.0       1205.00   \n",
       "\n",
       "   NO2(GT)  PT08.S4(NO2)  PT08.S5(O3)      T         RH        AH  \n",
       "0    113.0       1692.00      1267.50  13.60  48.875001  0.757754  \n",
       "1     92.0       1558.75       972.25  13.30  47.700000  0.725487  \n",
       "2    114.0       1554.50      1074.00  11.90  53.975000  0.750239  \n",
       "3    122.0       1583.75      1203.25  11.00  60.000000  0.786713  \n",
       "4    116.0       1490.00      1110.00  11.15  59.575001  0.788794  "
      ]
     },
     "execution_count": 192,
     "metadata": {},
     "output_type": "execute_result"
    }
   ],
   "source": [
    "df1.head()"
   ]
  },
  {
   "cell_type": "code",
   "execution_count": 194,
   "id": "9faad1da",
   "metadata": {},
   "outputs": [],
   "source": [
    "# Replace the missing value(-200) as nan\n",
    "for i in df1.columns:\n",
    "    df1[i]=np.where(df1[i]==-200,np.nan,df1[i])\n",
    "    df1.isnull().sum()"
   ]
  },
  {
   "cell_type": "code",
   "execution_count": 195,
   "id": "7ff6e5d0",
   "metadata": {},
   "outputs": [
    {
     "data": {
      "text/html": [
       "<div>\n",
       "<style scoped>\n",
       "    .dataframe tbody tr th:only-of-type {\n",
       "        vertical-align: middle;\n",
       "    }\n",
       "\n",
       "    .dataframe tbody tr th {\n",
       "        vertical-align: top;\n",
       "    }\n",
       "\n",
       "    .dataframe thead th {\n",
       "        text-align: right;\n",
       "    }\n",
       "</style>\n",
       "<table border=\"1\" class=\"dataframe\">\n",
       "  <thead>\n",
       "    <tr style=\"text-align: right;\">\n",
       "      <th></th>\n",
       "      <th>CO(GT)</th>\n",
       "      <th>PT08.S1(CO)</th>\n",
       "      <th>C6H6(GT)</th>\n",
       "      <th>PT08.S2(NMHC)</th>\n",
       "      <th>NOx(GT)</th>\n",
       "      <th>PT08.S3(NOx)</th>\n",
       "      <th>NO2(GT)</th>\n",
       "      <th>PT08.S4(NO2)</th>\n",
       "      <th>PT08.S5(O3)</th>\n",
       "      <th>T</th>\n",
       "      <th>RH</th>\n",
       "      <th>AH</th>\n",
       "    </tr>\n",
       "  </thead>\n",
       "  <tbody>\n",
       "    <tr>\n",
       "      <th>0</th>\n",
       "      <td>2.6</td>\n",
       "      <td>1360.00</td>\n",
       "      <td>11.881723</td>\n",
       "      <td>1045.50</td>\n",
       "      <td>166.0</td>\n",
       "      <td>1056.25</td>\n",
       "      <td>113.0</td>\n",
       "      <td>1692.00</td>\n",
       "      <td>1267.50</td>\n",
       "      <td>13.600</td>\n",
       "      <td>48.875001</td>\n",
       "      <td>0.757754</td>\n",
       "    </tr>\n",
       "    <tr>\n",
       "      <th>1</th>\n",
       "      <td>2.0</td>\n",
       "      <td>1292.25</td>\n",
       "      <td>9.397165</td>\n",
       "      <td>954.75</td>\n",
       "      <td>103.0</td>\n",
       "      <td>1173.75</td>\n",
       "      <td>92.0</td>\n",
       "      <td>1558.75</td>\n",
       "      <td>972.25</td>\n",
       "      <td>13.300</td>\n",
       "      <td>47.700000</td>\n",
       "      <td>0.725487</td>\n",
       "    </tr>\n",
       "    <tr>\n",
       "      <th>2</th>\n",
       "      <td>2.2</td>\n",
       "      <td>1402.00</td>\n",
       "      <td>8.997817</td>\n",
       "      <td>939.25</td>\n",
       "      <td>131.0</td>\n",
       "      <td>1140.00</td>\n",
       "      <td>114.0</td>\n",
       "      <td>1554.50</td>\n",
       "      <td>1074.00</td>\n",
       "      <td>11.900</td>\n",
       "      <td>53.975000</td>\n",
       "      <td>0.750239</td>\n",
       "    </tr>\n",
       "    <tr>\n",
       "      <th>3</th>\n",
       "      <td>2.2</td>\n",
       "      <td>1375.50</td>\n",
       "      <td>9.228796</td>\n",
       "      <td>948.25</td>\n",
       "      <td>172.0</td>\n",
       "      <td>1092.00</td>\n",
       "      <td>122.0</td>\n",
       "      <td>1583.75</td>\n",
       "      <td>1203.25</td>\n",
       "      <td>11.000</td>\n",
       "      <td>60.000000</td>\n",
       "      <td>0.786713</td>\n",
       "    </tr>\n",
       "    <tr>\n",
       "      <th>4</th>\n",
       "      <td>1.6</td>\n",
       "      <td>1272.25</td>\n",
       "      <td>6.518224</td>\n",
       "      <td>835.50</td>\n",
       "      <td>131.0</td>\n",
       "      <td>1205.00</td>\n",
       "      <td>116.0</td>\n",
       "      <td>1490.00</td>\n",
       "      <td>1110.00</td>\n",
       "      <td>11.150</td>\n",
       "      <td>59.575001</td>\n",
       "      <td>0.788794</td>\n",
       "    </tr>\n",
       "    <tr>\n",
       "      <th>...</th>\n",
       "      <td>...</td>\n",
       "      <td>...</td>\n",
       "      <td>...</td>\n",
       "      <td>...</td>\n",
       "      <td>...</td>\n",
       "      <td>...</td>\n",
       "      <td>...</td>\n",
       "      <td>...</td>\n",
       "      <td>...</td>\n",
       "      <td>...</td>\n",
       "      <td>...</td>\n",
       "      <td>...</td>\n",
       "    </tr>\n",
       "    <tr>\n",
       "      <th>9352</th>\n",
       "      <td>3.1</td>\n",
       "      <td>1314.25</td>\n",
       "      <td>13.529605</td>\n",
       "      <td>1101.25</td>\n",
       "      <td>471.7</td>\n",
       "      <td>538.50</td>\n",
       "      <td>189.8</td>\n",
       "      <td>1374.25</td>\n",
       "      <td>1728.50</td>\n",
       "      <td>21.850</td>\n",
       "      <td>29.250000</td>\n",
       "      <td>0.756824</td>\n",
       "    </tr>\n",
       "    <tr>\n",
       "      <th>9353</th>\n",
       "      <td>2.4</td>\n",
       "      <td>1162.50</td>\n",
       "      <td>11.355157</td>\n",
       "      <td>1027.00</td>\n",
       "      <td>353.3</td>\n",
       "      <td>603.75</td>\n",
       "      <td>179.2</td>\n",
       "      <td>1263.50</td>\n",
       "      <td>1269.00</td>\n",
       "      <td>24.325</td>\n",
       "      <td>23.725000</td>\n",
       "      <td>0.711864</td>\n",
       "    </tr>\n",
       "    <tr>\n",
       "      <th>9354</th>\n",
       "      <td>2.4</td>\n",
       "      <td>1142.00</td>\n",
       "      <td>12.374538</td>\n",
       "      <td>1062.50</td>\n",
       "      <td>293.0</td>\n",
       "      <td>603.25</td>\n",
       "      <td>174.7</td>\n",
       "      <td>1240.75</td>\n",
       "      <td>1092.00</td>\n",
       "      <td>26.900</td>\n",
       "      <td>18.350000</td>\n",
       "      <td>0.640649</td>\n",
       "    </tr>\n",
       "    <tr>\n",
       "      <th>9355</th>\n",
       "      <td>2.1</td>\n",
       "      <td>1002.50</td>\n",
       "      <td>9.547187</td>\n",
       "      <td>960.50</td>\n",
       "      <td>234.5</td>\n",
       "      <td>701.50</td>\n",
       "      <td>155.7</td>\n",
       "      <td>1041.00</td>\n",
       "      <td>769.75</td>\n",
       "      <td>28.325</td>\n",
       "      <td>13.550000</td>\n",
       "      <td>0.513866</td>\n",
       "    </tr>\n",
       "    <tr>\n",
       "      <th>9356</th>\n",
       "      <td>2.2</td>\n",
       "      <td>1070.75</td>\n",
       "      <td>11.932060</td>\n",
       "      <td>1047.25</td>\n",
       "      <td>265.2</td>\n",
       "      <td>654.00</td>\n",
       "      <td>167.7</td>\n",
       "      <td>1128.50</td>\n",
       "      <td>816.00</td>\n",
       "      <td>28.500</td>\n",
       "      <td>13.125000</td>\n",
       "      <td>0.502804</td>\n",
       "    </tr>\n",
       "  </tbody>\n",
       "</table>\n",
       "<p>9357 rows × 12 columns</p>\n",
       "</div>"
      ],
      "text/plain": [
       "      CO(GT)  PT08.S1(CO)   C6H6(GT)  PT08.S2(NMHC)  NOx(GT)  PT08.S3(NOx)  \\\n",
       "0        2.6      1360.00  11.881723        1045.50    166.0       1056.25   \n",
       "1        2.0      1292.25   9.397165         954.75    103.0       1173.75   \n",
       "2        2.2      1402.00   8.997817         939.25    131.0       1140.00   \n",
       "3        2.2      1375.50   9.228796         948.25    172.0       1092.00   \n",
       "4        1.6      1272.25   6.518224         835.50    131.0       1205.00   \n",
       "...      ...          ...        ...            ...      ...           ...   \n",
       "9352     3.1      1314.25  13.529605        1101.25    471.7        538.50   \n",
       "9353     2.4      1162.50  11.355157        1027.00    353.3        603.75   \n",
       "9354     2.4      1142.00  12.374538        1062.50    293.0        603.25   \n",
       "9355     2.1      1002.50   9.547187         960.50    234.5        701.50   \n",
       "9356     2.2      1070.75  11.932060        1047.25    265.2        654.00   \n",
       "\n",
       "      NO2(GT)  PT08.S4(NO2)  PT08.S5(O3)       T         RH        AH  \n",
       "0       113.0       1692.00      1267.50  13.600  48.875001  0.757754  \n",
       "1        92.0       1558.75       972.25  13.300  47.700000  0.725487  \n",
       "2       114.0       1554.50      1074.00  11.900  53.975000  0.750239  \n",
       "3       122.0       1583.75      1203.25  11.000  60.000000  0.786713  \n",
       "4       116.0       1490.00      1110.00  11.150  59.575001  0.788794  \n",
       "...       ...           ...          ...     ...        ...       ...  \n",
       "9352    189.8       1374.25      1728.50  21.850  29.250000  0.756824  \n",
       "9353    179.2       1263.50      1269.00  24.325  23.725000  0.711864  \n",
       "9354    174.7       1240.75      1092.00  26.900  18.350000  0.640649  \n",
       "9355    155.7       1041.00       769.75  28.325  13.550000  0.513866  \n",
       "9356    167.7       1128.50       816.00  28.500  13.125000  0.502804  \n",
       "\n",
       "[9357 rows x 12 columns]"
      ]
     },
     "execution_count": 195,
     "metadata": {},
     "output_type": "execute_result"
    }
   ],
   "source": [
    "df1"
   ]
  },
  {
   "cell_type": "code",
   "execution_count": 197,
   "id": "4132cf66",
   "metadata": {},
   "outputs": [
    {
     "data": {
      "image/png": "[encoded data removed]",
      "text/plain": [
       "<Figure size 1440x1080 with 12 Axes>"
      ]
     },
     "metadata": {
      "needs_background": "light"
     },
     "output_type": "display_data"
    }
   ],
   "source": [
    "freqgraph=df1.select_dtypes(include=['float'])\n",
    "freqgraph.hist(figsize=(20,15))\n",
    "plt.show()"
   ]
  },
  {
   "cell_type": "code",
   "execution_count": 198,
   "id": "48f5886c",
   "metadata": {},
   "outputs": [
    {
     "data": {
      "text/plain": [
       "CO(GT)           1683\n",
       "PT08.S1(CO)       366\n",
       "C6H6(GT)          366\n",
       "PT08.S2(NMHC)     366\n",
       "NOx(GT)          1639\n",
       "PT08.S3(NOx)      366\n",
       "NO2(GT)          1642\n",
       "PT08.S4(NO2)      366\n",
       "PT08.S5(O3)       366\n",
       "T                 366\n",
       "RH                366\n",
       "AH                366\n",
       "dtype: int64"
      ]
     },
     "execution_count": 198,
     "metadata": {},
     "output_type": "execute_result"
    }
   ],
   "source": [
    "df1.isna().sum()"
   ]
  },
  {
   "cell_type": "code",
   "execution_count": 199,
   "id": "8f90ba5c",
   "metadata": {},
   "outputs": [
    {
     "data": {
      "text/plain": [
       "Index(['CO(GT)', 'PT08.S1(CO)', 'C6H6(GT)', 'PT08.S2(NMHC)', 'NOx(GT)',\n",
       "       'PT08.S3(NOx)', 'NO2(GT)', 'PT08.S4(NO2)', 'PT08.S5(O3)', 'T', 'RH',\n",
       "       'AH'],\n",
       "      dtype='object')"
      ]
     },
     "execution_count": 199,
     "metadata": {},
     "output_type": "execute_result"
    }
   ],
   "source": [
    "df1.columns"
   ]
  },
  {
   "cell_type": "code",
   "execution_count": 200,
   "id": "7e096386",
   "metadata": {},
   "outputs": [],
   "source": [
    "# replace the missing values of skewed data with median \n",
    "for i in ['CO(GT)', 'PT08.S1(CO)', 'C6H6(GT)', 'PT08.S2(NMHC)', 'NOx(GT)', 'PT08.S3(NOx)','NO2(GT)', 'PT08.S5(O3)']:\n",
    "    df1[i]=df1[i].fillna(df1[i].median())"
   ]
  },
  {
   "cell_type": "code",
   "execution_count": 201,
   "id": "15f8e198",
   "metadata": {},
   "outputs": [],
   "source": [
    "# replace the missing values with mean\n",
    "for i in ['PT08.S4(NO2)','T','RH','AH']:\n",
    "    df1[i]=df1[i].fillna(df1[i].mean())"
   ]
  },
  {
   "cell_type": "code",
   "execution_count": 108,
   "id": "821c69cc",
   "metadata": {
    "scrolled": true
   },
   "outputs": [
    {
     "data": {
      "text/html": [
       "<div>\n",
       "<style scoped>\n",
       "    .dataframe tbody tr th:only-of-type {\n",
       "        vertical-align: middle;\n",
       "    }\n",
       "\n",
       "    .dataframe tbody tr th {\n",
       "        vertical-align: top;\n",
       "    }\n",
       "\n",
       "    .dataframe thead th {\n",
       "        text-align: right;\n",
       "    }\n",
       "</style>\n",
       "<table border=\"1\" class=\"dataframe\">\n",
       "  <thead>\n",
       "    <tr style=\"text-align: right;\">\n",
       "      <th></th>\n",
       "      <th>CO(GT)</th>\n",
       "      <th>PT08.S1(CO)</th>\n",
       "      <th>C6H6(GT)</th>\n",
       "      <th>PT08.S2(NMHC)</th>\n",
       "      <th>NOx(GT)</th>\n",
       "      <th>PT08.S3(NOx)</th>\n",
       "      <th>NO2(GT)</th>\n",
       "      <th>PT08.S4(NO2)</th>\n",
       "      <th>PT08.S5(O3)</th>\n",
       "      <th>T</th>\n",
       "      <th>RH</th>\n",
       "      <th>AH</th>\n",
       "    </tr>\n",
       "  </thead>\n",
       "  <tbody>\n",
       "    <tr>\n",
       "      <th>0</th>\n",
       "      <td>2.6</td>\n",
       "      <td>1360.00</td>\n",
       "      <td>11.881723</td>\n",
       "      <td>1045.50</td>\n",
       "      <td>166.0</td>\n",
       "      <td>1056.25</td>\n",
       "      <td>113.0</td>\n",
       "      <td>993.0</td>\n",
       "      <td>1267.50</td>\n",
       "      <td>13.600</td>\n",
       "      <td>48.875001</td>\n",
       "      <td>0.757754</td>\n",
       "    </tr>\n",
       "    <tr>\n",
       "      <th>1</th>\n",
       "      <td>2.0</td>\n",
       "      <td>1292.25</td>\n",
       "      <td>9.397165</td>\n",
       "      <td>954.75</td>\n",
       "      <td>103.0</td>\n",
       "      <td>1146.00</td>\n",
       "      <td>92.0</td>\n",
       "      <td>993.0</td>\n",
       "      <td>972.25</td>\n",
       "      <td>13.300</td>\n",
       "      <td>47.700000</td>\n",
       "      <td>0.725487</td>\n",
       "    </tr>\n",
       "    <tr>\n",
       "      <th>2</th>\n",
       "      <td>2.2</td>\n",
       "      <td>1402.00</td>\n",
       "      <td>8.997817</td>\n",
       "      <td>939.25</td>\n",
       "      <td>131.0</td>\n",
       "      <td>1140.00</td>\n",
       "      <td>114.0</td>\n",
       "      <td>993.0</td>\n",
       "      <td>1074.00</td>\n",
       "      <td>11.900</td>\n",
       "      <td>53.975000</td>\n",
       "      <td>0.750239</td>\n",
       "    </tr>\n",
       "    <tr>\n",
       "      <th>3</th>\n",
       "      <td>2.2</td>\n",
       "      <td>1375.50</td>\n",
       "      <td>9.228796</td>\n",
       "      <td>948.25</td>\n",
       "      <td>172.0</td>\n",
       "      <td>1092.00</td>\n",
       "      <td>122.0</td>\n",
       "      <td>993.0</td>\n",
       "      <td>1203.25</td>\n",
       "      <td>11.000</td>\n",
       "      <td>60.000000</td>\n",
       "      <td>0.786713</td>\n",
       "    </tr>\n",
       "    <tr>\n",
       "      <th>4</th>\n",
       "      <td>1.6</td>\n",
       "      <td>1272.25</td>\n",
       "      <td>6.518224</td>\n",
       "      <td>835.50</td>\n",
       "      <td>131.0</td>\n",
       "      <td>1146.00</td>\n",
       "      <td>116.0</td>\n",
       "      <td>993.0</td>\n",
       "      <td>1110.00</td>\n",
       "      <td>11.150</td>\n",
       "      <td>59.575001</td>\n",
       "      <td>0.788794</td>\n",
       "    </tr>\n",
       "    <tr>\n",
       "      <th>...</th>\n",
       "      <td>...</td>\n",
       "      <td>...</td>\n",
       "      <td>...</td>\n",
       "      <td>...</td>\n",
       "      <td>...</td>\n",
       "      <td>...</td>\n",
       "      <td>...</td>\n",
       "      <td>...</td>\n",
       "      <td>...</td>\n",
       "      <td>...</td>\n",
       "      <td>...</td>\n",
       "      <td>...</td>\n",
       "    </tr>\n",
       "    <tr>\n",
       "      <th>9352</th>\n",
       "      <td>3.0</td>\n",
       "      <td>1314.25</td>\n",
       "      <td>13.529605</td>\n",
       "      <td>1101.25</td>\n",
       "      <td>471.7</td>\n",
       "      <td>538.50</td>\n",
       "      <td>171.0</td>\n",
       "      <td>993.0</td>\n",
       "      <td>1577.00</td>\n",
       "      <td>21.850</td>\n",
       "      <td>29.250000</td>\n",
       "      <td>0.756824</td>\n",
       "    </tr>\n",
       "    <tr>\n",
       "      <th>9353</th>\n",
       "      <td>2.4</td>\n",
       "      <td>1162.50</td>\n",
       "      <td>11.355157</td>\n",
       "      <td>1027.00</td>\n",
       "      <td>353.3</td>\n",
       "      <td>603.75</td>\n",
       "      <td>171.0</td>\n",
       "      <td>993.0</td>\n",
       "      <td>1269.00</td>\n",
       "      <td>24.325</td>\n",
       "      <td>23.725000</td>\n",
       "      <td>0.711864</td>\n",
       "    </tr>\n",
       "    <tr>\n",
       "      <th>9354</th>\n",
       "      <td>2.4</td>\n",
       "      <td>1142.00</td>\n",
       "      <td>12.374538</td>\n",
       "      <td>1062.50</td>\n",
       "      <td>293.0</td>\n",
       "      <td>603.25</td>\n",
       "      <td>171.0</td>\n",
       "      <td>993.0</td>\n",
       "      <td>1092.00</td>\n",
       "      <td>26.900</td>\n",
       "      <td>18.350000</td>\n",
       "      <td>0.640649</td>\n",
       "    </tr>\n",
       "    <tr>\n",
       "      <th>9355</th>\n",
       "      <td>2.1</td>\n",
       "      <td>1002.50</td>\n",
       "      <td>9.547187</td>\n",
       "      <td>960.50</td>\n",
       "      <td>234.5</td>\n",
       "      <td>701.50</td>\n",
       "      <td>155.7</td>\n",
       "      <td>993.0</td>\n",
       "      <td>769.75</td>\n",
       "      <td>28.325</td>\n",
       "      <td>13.550000</td>\n",
       "      <td>0.513866</td>\n",
       "    </tr>\n",
       "    <tr>\n",
       "      <th>9356</th>\n",
       "      <td>2.2</td>\n",
       "      <td>1070.75</td>\n",
       "      <td>11.932060</td>\n",
       "      <td>1047.25</td>\n",
       "      <td>265.2</td>\n",
       "      <td>654.00</td>\n",
       "      <td>167.7</td>\n",
       "      <td>993.0</td>\n",
       "      <td>816.00</td>\n",
       "      <td>28.500</td>\n",
       "      <td>13.125000</td>\n",
       "      <td>0.502804</td>\n",
       "    </tr>\n",
       "  </tbody>\n",
       "</table>\n",
       "<p>9338 rows × 12 columns</p>\n",
       "</div>"
      ],
      "text/plain": [
       "      CO(GT)  PT08.S1(CO)   C6H6(GT)  PT08.S2(NMHC)  NOx(GT)  PT08.S3(NOx)  \\\n",
       "0        2.6      1360.00  11.881723        1045.50    166.0       1056.25   \n",
       "1        2.0      1292.25   9.397165         954.75    103.0       1146.00   \n",
       "2        2.2      1402.00   8.997817         939.25    131.0       1140.00   \n",
       "3        2.2      1375.50   9.228796         948.25    172.0       1092.00   \n",
       "4        1.6      1272.25   6.518224         835.50    131.0       1146.00   \n",
       "...      ...          ...        ...            ...      ...           ...   \n",
       "9352     3.0      1314.25  13.529605        1101.25    471.7        538.50   \n",
       "9353     2.4      1162.50  11.355157        1027.00    353.3        603.75   \n",
       "9354     2.4      1142.00  12.374538        1062.50    293.0        603.25   \n",
       "9355     2.1      1002.50   9.547187         960.50    234.5        701.50   \n",
       "9356     2.2      1070.75  11.932060        1047.25    265.2        654.00   \n",
       "\n",
       "      NO2(GT)  PT08.S4(NO2)  PT08.S5(O3)       T         RH        AH  \n",
       "0       113.0         993.0      1267.50  13.600  48.875001  0.757754  \n",
       "1        92.0         993.0       972.25  13.300  47.700000  0.725487  \n",
       "2       114.0         993.0      1074.00  11.900  53.975000  0.750239  \n",
       "3       122.0         993.0      1203.25  11.000  60.000000  0.786713  \n",
       "4       116.0         993.0      1110.00  11.150  59.575001  0.788794  \n",
       "...       ...           ...          ...     ...        ...       ...  \n",
       "9352    171.0         993.0      1577.00  21.850  29.250000  0.756824  \n",
       "9353    171.0         993.0      1269.00  24.325  23.725000  0.711864  \n",
       "9354    171.0         993.0      1092.00  26.900  18.350000  0.640649  \n",
       "9355    155.7         993.0       769.75  28.325  13.550000  0.513866  \n",
       "9356    167.7         993.0       816.00  28.500  13.125000  0.502804  \n",
       "\n",
       "[9338 rows x 12 columns]"
      ]
     },
     "execution_count": 108,
     "metadata": {},
     "output_type": "execute_result"
    }
   ],
   "source": [
    "df1"
   ]
  },
  {
   "cell_type": "code",
   "execution_count": 203,
   "id": "80ebbc47",
   "metadata": {},
   "outputs": [
    {
     "data": {
      "text/plain": [
       "CO(GT)           0\n",
       "PT08.S1(CO)      0\n",
       "C6H6(GT)         0\n",
       "PT08.S2(NMHC)    0\n",
       "NOx(GT)          0\n",
       "PT08.S3(NOx)     0\n",
       "NO2(GT)          0\n",
       "PT08.S4(NO2)     0\n",
       "PT08.S5(O3)      0\n",
       "T                0\n",
       "RH               0\n",
       "AH               0\n",
       "dtype: int64"
      ]
     },
     "execution_count": 203,
     "metadata": {},
     "output_type": "execute_result"
    }
   ],
   "source": [
    "df1.isna().sum()"
   ]
  },
  {
   "cell_type": "markdown",
   "id": "bca2bb0f",
   "metadata": {},
   "source": [
    "# 3.Outlier detection and handling"
   ]
  },
  {
   "cell_type": "code",
   "execution_count": 206,
   "id": "208868f0",
   "metadata": {},
   "outputs": [
    {
     "data": {
      "text/plain": [
       "<AxesSubplot:xlabel='CO(GT)'>"
      ]
     },
     "execution_count": 206,
     "metadata": {},
     "output_type": "execute_result"
    },
    {
     "data": {
      "image/png": "[encoded data removed]",
      "text/plain": [
       "<Figure size 432x288 with 1 Axes>"
      ]
     },
     "metadata": {
      "needs_background": "light"
     },
     "output_type": "display_data"
    }
   ],
   "source": [
    "sns.boxplot(df1['CO(GT)'])\n"
   ]
  },
  {
   "cell_type": "code",
   "execution_count": 207,
   "id": "cef7f3ec",
   "metadata": {},
   "outputs": [],
   "source": [
    "q1=np.percentile(df1['CO(GT)'],25,interpolation='midpoint')\n",
    "q2=np.percentile(df1['CO(GT)'],50,interpolation='midpoint')\n",
    "q3=np.percentile(df1['CO(GT)'],75,interpolation='midpoint')"
   ]
  },
  {
   "cell_type": "code",
   "execution_count": 208,
   "id": "88335f6a",
   "metadata": {},
   "outputs": [
    {
     "name": "stdout",
     "output_type": "stream",
     "text": [
      "1.2\n",
      "1.8\n",
      "2.6\n"
     ]
    }
   ],
   "source": [
    "print(q1)\n",
    "print(q2)\n",
    "print(q3)"
   ]
  },
  {
   "cell_type": "code",
   "execution_count": 209,
   "id": "b4b3aa89",
   "metadata": {},
   "outputs": [
    {
     "data": {
      "text/plain": [
       "1.8"
      ]
     },
     "execution_count": 209,
     "metadata": {},
     "output_type": "execute_result"
    }
   ],
   "source": [
    "df1['CO(GT)'].median()"
   ]
  },
  {
   "cell_type": "code",
   "execution_count": 210,
   "id": "0fee4ed6",
   "metadata": {},
   "outputs": [],
   "source": [
    "IQR=q3-q1"
   ]
  },
  {
   "cell_type": "code",
   "execution_count": 211,
   "id": "c87d9c00",
   "metadata": {},
   "outputs": [],
   "source": [
    "low_lim=q1-1.5*IQR\n",
    "up_lim=q3+1.5*IQR"
   ]
  },
  {
   "cell_type": "code",
   "execution_count": 212,
   "id": "d0c1e43f",
   "metadata": {},
   "outputs": [
    {
     "name": "stdout",
     "output_type": "stream",
     "text": [
      "-0.9000000000000001\n",
      "4.7\n"
     ]
    }
   ],
   "source": [
    "print(low_lim)\n",
    "print(up_lim)"
   ]
  },
  {
   "cell_type": "code",
   "execution_count": 213,
   "id": "60726434",
   "metadata": {},
   "outputs": [
    {
     "data": {
      "text/plain": [
       "454"
      ]
     },
     "execution_count": 213,
     "metadata": {},
     "output_type": "execute_result"
    }
   ],
   "source": [
    "outlier=[]\n",
    "for x in df1['CO(GT)']:\n",
    "    if((x>up_lim)or(x<low_lim)):\n",
    "        outlier.append(x)\n",
    "len(outlier)"
   ]
  },
  {
   "cell_type": "code",
   "execution_count": 214,
   "id": "c2aee726",
   "metadata": {},
   "outputs": [
    {
     "data": {
      "text/plain": [
       "[4.8,\n",
       " 6.9,\n",
       " 6.1,\n",
       " 6.6,\n",
       " 5.4,\n",
       " 5.9,\n",
       " 5.5,\n",
       " 8.1,\n",
       " 5.8,\n",
       " 6.1,\n",
       " 8.0,\n",
       " 6.5,\n",
       " 5.3,\n",
       " 5.1,\n",
       " 6.6,\n",
       " 5.0,\n",
       " 7.6,\n",
       " 6.7,\n",
       " 5.7,\n",
       " 6.6,\n",
       " 5.1,\n",
       " 5.1,\n",
       " 4.8,\n",
       " 6.2,\n",
       " 5.2,\n",
       " 6.2,\n",
       " 5.5,\n",
       " 4.9,\n",
       " 5.0,\n",
       " 5.5,\n",
       " 6.2,\n",
       " 5.1,\n",
       " 6.3,\n",
       " 5.0,\n",
       " 5.0,\n",
       " 5.2,\n",
       " 5.9,\n",
       " 7.3,\n",
       " 6.1,\n",
       " 5.7,\n",
       " 5.2,\n",
       " 6.4,\n",
       " 6.0,\n",
       " 5.6,\n",
       " 5.0,\n",
       " 5.2,\n",
       " 4.8,\n",
       " 5.6,\n",
       " 5.5,\n",
       " 4.8,\n",
       " 5.4,\n",
       " 5.3,\n",
       " 4.9,\n",
       " 7.2,\n",
       " 4.9,\n",
       " 5.4,\n",
       " 6.5,\n",
       " 5.7,\n",
       " 5.4,\n",
       " 5.5,\n",
       " 4.8,\n",
       " 6.3,\n",
       " 5.0,\n",
       " 5.9,\n",
       " 5.1,\n",
       " 5.1,\n",
       " 6.5,\n",
       " 6.2,\n",
       " 5.4,\n",
       " 4.8,\n",
       " 4.8,\n",
       " 4.8,\n",
       " 5.8,\n",
       " 5.0,\n",
       " 6.4,\n",
       " 4.9,\n",
       " 4.8,\n",
       " 4.8,\n",
       " 5.1,\n",
       " 4.8,\n",
       " 5.0,\n",
       " 4.8,\n",
       " 5.0,\n",
       " 4.8,\n",
       " 5.6,\n",
       " 5.7,\n",
       " 4.9,\n",
       " 4.9,\n",
       " 4.9,\n",
       " 5.1,\n",
       " 5.3,\n",
       " 5.1,\n",
       " 5.0,\n",
       " 4.9,\n",
       " 4.8,\n",
       " 4.9,\n",
       " 5.2,\n",
       " 4.9,\n",
       " 5.8,\n",
       " 5.4,\n",
       " 6.2,\n",
       " 6.1,\n",
       " 6.7,\n",
       " 5.7,\n",
       " 5.0,\n",
       " 5.6,\n",
       " 6.5,\n",
       " 5.6,\n",
       " 7.3,\n",
       " 5.3,\n",
       " 5.0,\n",
       " 5.6,\n",
       " 5.4,\n",
       " 5.5,\n",
       " 5.5,\n",
       " 5.0,\n",
       " 5.1,\n",
       " 5.2,\n",
       " 4.9,\n",
       " 5.5,\n",
       " 5.6,\n",
       " 5.5,\n",
       " 4.8,\n",
       " 6.7,\n",
       " 7.5,\n",
       " 5.2,\n",
       " 5.6,\n",
       " 6.3,\n",
       " 6.5,\n",
       " 6.3,\n",
       " 5.7,\n",
       " 5.6,\n",
       " 5.4,\n",
       " 5.3,\n",
       " 6.7,\n",
       " 7.0,\n",
       " 5.7,\n",
       " 5.1,\n",
       " 4.8,\n",
       " 4.8,\n",
       " 8.0,\n",
       " 7.7,\n",
       " 6.8,\n",
       " 6.0,\n",
       " 6.0,\n",
       " 5.0,\n",
       " 5.5,\n",
       " 5.4,\n",
       " 8.4,\n",
       " 6.8,\n",
       " 5.2,\n",
       " 5.0,\n",
       " 7.9,\n",
       " 8.4,\n",
       " 8.0,\n",
       " 6.4,\n",
       " 5.3,\n",
       " 5.8,\n",
       " 8.4,\n",
       " 9.5,\n",
       " 6.2,\n",
       " 5.0,\n",
       " 4.9,\n",
       " 5.0,\n",
       " 6.5,\n",
       " 5.9,\n",
       " 5.1,\n",
       " 5.5,\n",
       " 4.9,\n",
       " 6.6,\n",
       " 5.8,\n",
       " 4.9,\n",
       " 5.1,\n",
       " 7.5,\n",
       " 5.8,\n",
       " 5.9,\n",
       " 6.8,\n",
       " 7.9,\n",
       " 8.0,\n",
       " 9.2,\n",
       " 5.9,\n",
       " 8.7,\n",
       " 5.8,\n",
       " 6.2,\n",
       " 5.0,\n",
       " 8.1,\n",
       " 8.0,\n",
       " 5.9,\n",
       " 6.6,\n",
       " 6.8,\n",
       " 5.4,\n",
       " 5.2,\n",
       " 5.2,\n",
       " 7.8,\n",
       " 10.2,\n",
       " 6.6,\n",
       " 4.9,\n",
       " 5.6,\n",
       " 5.6,\n",
       " 4.9,\n",
       " 5.4,\n",
       " 4.8,\n",
       " 5.9,\n",
       " 5.6,\n",
       " 4.8,\n",
       " 5.0,\n",
       " 5.6,\n",
       " 7.5,\n",
       " 7.2,\n",
       " 8.3,\n",
       " 8.6,\n",
       " 6.3,\n",
       " 6.9,\n",
       " 6.5,\n",
       " 5.7,\n",
       " 6.6,\n",
       " 5.0,\n",
       " 5.3,\n",
       " 5.4,\n",
       " 7.3,\n",
       " 5.1,\n",
       " 5.3,\n",
       " 7.3,\n",
       " 10.2,\n",
       " 11.9,\n",
       " 11.5,\n",
       " 8.3,\n",
       " 6.1,\n",
       " 6.8,\n",
       " 8.4,\n",
       " 5.3,\n",
       " 4.8,\n",
       " 5.8,\n",
       " 5.6,\n",
       " 4.9,\n",
       " 5.6,\n",
       " 5.1,\n",
       " 6.2,\n",
       " 7.7,\n",
       " 10.1,\n",
       " 6.4,\n",
       " 7.7,\n",
       " 8.1,\n",
       " 4.8,\n",
       " 5.6,\n",
       " 4.9,\n",
       " 5.3,\n",
       " 5.9,\n",
       " 6.3,\n",
       " 6.6,\n",
       " 5.0,\n",
       " 5.2,\n",
       " 6.3,\n",
       " 6.8,\n",
       " 5.0,\n",
       " 5.7,\n",
       " 5.0,\n",
       " 5.6,\n",
       " 6.2,\n",
       " 7.5,\n",
       " 5.0,\n",
       " 4.9,\n",
       " 7.7,\n",
       " 9.4,\n",
       " 7.8,\n",
       " 6.6,\n",
       " 4.8,\n",
       " 6.0,\n",
       " 5.1,\n",
       " 6.9,\n",
       " 5.1,\n",
       " 4.9,\n",
       " 6.1,\n",
       " 6.2,\n",
       " 4.9,\n",
       " 5.0,\n",
       " 6.3,\n",
       " 4.8,\n",
       " 4.8,\n",
       " 5.9,\n",
       " 9.9,\n",
       " 6.9,\n",
       " 5.6,\n",
       " 5.1,\n",
       " 7.4,\n",
       " 9.3,\n",
       " 7.4,\n",
       " 5.3,\n",
       " 4.9,\n",
       " 6.6,\n",
       " 7.3,\n",
       " 5.3,\n",
       " 5.5,\n",
       " 4.8,\n",
       " 5.5,\n",
       " 5.2,\n",
       " 7.5,\n",
       " 8.6,\n",
       " 9.1,\n",
       " 8.6,\n",
       " 5.4,\n",
       " 6.3,\n",
       " 5.0,\n",
       " 5.1,\n",
       " 5.5,\n",
       " 5.5,\n",
       " 4.9,\n",
       " 6.6,\n",
       " 8.5,\n",
       " 8.7,\n",
       " 9.1,\n",
       " 7.2,\n",
       " 5.0,\n",
       " 4.8,\n",
       " 6.1,\n",
       " 6.6,\n",
       " 6.5,\n",
       " 6.0,\n",
       " 6.9,\n",
       " 7.9,\n",
       " 6.1,\n",
       " 6.7,\n",
       " 6.8,\n",
       " 6.7,\n",
       " 6.4,\n",
       " 6.8,\n",
       " 5.6,\n",
       " 5.4,\n",
       " 5.2,\n",
       " 5.9,\n",
       " 5.6,\n",
       " 5.5,\n",
       " 5.2,\n",
       " 5.5,\n",
       " 4.8,\n",
       " 6.2,\n",
       " 5.0,\n",
       " 4.8,\n",
       " 4.8,\n",
       " 5.2,\n",
       " 5.9,\n",
       " 5.9,\n",
       " 5.0,\n",
       " 5.7,\n",
       " 5.0,\n",
       " 4.8,\n",
       " 5.5,\n",
       " 5.1,\n",
       " 5.7,\n",
       " 5.6,\n",
       " 5.9,\n",
       " 5.2,\n",
       " 5.0,\n",
       " 5.0,\n",
       " 5.7,\n",
       " 5.8,\n",
       " 5.8,\n",
       " 5.0,\n",
       " 5.2,\n",
       " 8.6,\n",
       " 8.7,\n",
       " 5.1,\n",
       " 5.8,\n",
       " 4.9,\n",
       " 5.2,\n",
       " 4.8,\n",
       " 4.9,\n",
       " 4.9,\n",
       " 5.5,\n",
       " 6.0,\n",
       " 5.7,\n",
       " 5.0,\n",
       " 4.9,\n",
       " 6.4,\n",
       " 6.1,\n",
       " 6.8,\n",
       " 6.8,\n",
       " 4.8,\n",
       " 6.7,\n",
       " 5.6,\n",
       " 4.8,\n",
       " 5.8,\n",
       " 5.9,\n",
       " 5.6,\n",
       " 4.9,\n",
       " 6.7,\n",
       " 6.4,\n",
       " 6.2,\n",
       " 8.4,\n",
       " 5.9,\n",
       " 5.4,\n",
       " 5.4,\n",
       " 5.8,\n",
       " 6.1,\n",
       " 7.1,\n",
       " 6.6,\n",
       " 6.5,\n",
       " 7.1,\n",
       " 4.9,\n",
       " 5.0,\n",
       " 5.7,\n",
       " 5.2,\n",
       " 5.0,\n",
       " 5.6,\n",
       " 5.2,\n",
       " 4.8,\n",
       " 4.9,\n",
       " 6.3,\n",
       " 5.4,\n",
       " 5.8,\n",
       " 4.8,\n",
       " 5.1,\n",
       " 5.3,\n",
       " 5.4,\n",
       " 6.1,\n",
       " 4.8,\n",
       " 5.5,\n",
       " 5.1,\n",
       " 5.9,\n",
       " 6.0,\n",
       " 5.3,\n",
       " 5.9,\n",
       " 5.5,\n",
       " 5.4,\n",
       " 5.4,\n",
       " 6.5,\n",
       " 6.5,\n",
       " 6.3,\n",
       " 7.4,\n",
       " 5.7,\n",
       " 4.8,\n",
       " 4.9,\n",
       " 5.6,\n",
       " 5.6,\n",
       " 4.9,\n",
       " 5.4,\n",
       " 5.6,\n",
       " 5.3,\n",
       " 4.9,\n",
       " 6.1,\n",
       " 6.4,\n",
       " 6.0,\n",
       " 5.8,\n",
       " 4.9,\n",
       " 6.2,\n",
       " 7.2,\n",
       " 5.9,\n",
       " 7.5,\n",
       " 5.0,\n",
       " 4.9,\n",
       " 5.7,\n",
       " 5.5,\n",
       " 5.1,\n",
       " 5.0]"
      ]
     },
     "execution_count": 214,
     "metadata": {},
     "output_type": "execute_result"
    }
   ],
   "source": [
    "outlier"
   ]
  },
  {
   "cell_type": "code",
   "execution_count": 215,
   "id": "df97ae06",
   "metadata": {},
   "outputs": [
    {
     "data": {
      "text/plain": [
       "Int64Index([  24,   25,   26,   50,   53,   98,  110,  111,  112,  120,\n",
       "            ...\n",
       "            9073, 9074, 9097, 9098, 9099, 9120, 9121, 9122, 9206, 9350],\n",
       "           dtype='int64', length=454)"
      ]
     },
     "execution_count": 215,
     "metadata": {},
     "output_type": "execute_result"
    }
   ],
   "source": [
    "ind1=df1['CO(GT)']>up_lim\n",
    "df1.loc[ind1].index"
   ]
  },
  {
   "cell_type": "code",
   "execution_count": 216,
   "id": "2b55d8c0",
   "metadata": {},
   "outputs": [
    {
     "data": {
      "text/plain": [
       "<AxesSubplot:xlabel='CO(GT)'>"
      ]
     },
     "execution_count": 216,
     "metadata": {},
     "output_type": "execute_result"
    },
    {
     "data": {
      "image/png": "[encoded data removed]",
      "text/plain": [
       "<Figure size 432x288 with 1 Axes>"
      ]
     },
     "metadata": {
      "needs_background": "light"
     },
     "output_type": "display_data"
    }
   ],
   "source": [
    "# Computing 90th percentiles and replacing the outliers\n",
    "ni_percentile = int(np.percentile(df1['CO(GT)'], 90))\n",
    "\n",
    "# the values above 90th percentile are replaced with 90th percentile value\n",
    "df1['CO(GT)'] = np.where(df1['CO(GT)']>ni_percentile, ni_percentile, df1['CO(GT)'])\n",
    "\n",
    "sns.boxplot(df1['CO(GT)'])\n"
   ]
  },
  {
   "cell_type": "markdown",
   "id": "3b1dfc7c",
   "metadata": {},
   "source": [
    "outliers removed"
   ]
  },
  {
   "cell_type": "code",
   "execution_count": 217,
   "id": "8260e429",
   "metadata": {},
   "outputs": [
    {
     "data": {
      "text/plain": [
       "<AxesSubplot:xlabel='PT08.S1(CO)'>"
      ]
     },
     "execution_count": 217,
     "metadata": {},
     "output_type": "execute_result"
    },
    {
     "data": {
      "image/png": "[encoded data removed]",
      "text/plain": [
       "<Figure size 432x288 with 1 Axes>"
      ]
     },
     "metadata": {
      "needs_background": "light"
     },
     "output_type": "display_data"
    }
   ],
   "source": [
    "sns.boxplot(df1['PT08.S1(CO)'])"
   ]
  },
  {
   "cell_type": "code",
   "execution_count": 218,
   "id": "dd35fb09",
   "metadata": {},
   "outputs": [
    {
     "data": {
      "text/plain": [
       "145"
      ]
     },
     "execution_count": 218,
     "metadata": {},
     "output_type": "execute_result"
    }
   ],
   "source": [
    "q1=np.percentile(df1['PT08.S1(CO)'],25,interpolation=\"midpoint\")\n",
    "q3=np.percentile(df1['PT08.S1(CO)'],75,interpolation=\"midpoint\")\n",
    "IQR=q3-q1\n",
    "low_lim=q1-1.5*IQR\n",
    "up_lim=q3+1.5*IQR\n",
    "\n",
    "outlier = []\n",
    "for x in df1['PT08.S1(CO)']:\n",
    "    if (x > up_lim) or (x < low_lim):\n",
    "        outlier.append(x)\n",
    "len(outlier) "
   ]
  },
  {
   "cell_type": "code",
   "execution_count": 219,
   "id": "af048fc4",
   "metadata": {},
   "outputs": [
    {
     "data": {
      "text/plain": [
       "<AxesSubplot:xlabel='PT08.S1(CO)'>"
      ]
     },
     "execution_count": 219,
     "metadata": {},
     "output_type": "execute_result"
    },
    {
     "data": {
      "image/png": "[encoded data removed]",
      "text/plain": [
       "<Figure size 432x288 with 1 Axes>"
      ]
     },
     "metadata": {
      "needs_background": "light"
     },
     "output_type": "display_data"
    }
   ],
   "source": [
    "# Computing 90th percentiles and replacing the outliers\n",
    "ni_percentile = int(np.percentile(df1['PT08.S1(CO)'], 90))\n",
    "\n",
    "# the values above 90th percentile are replaced with 90th percentile value\n",
    "df1['PT08.S1(CO)'] = np.where(df1['PT08.S1(CO)']>ni_percentile, ni_percentile,df1['PT08.S1(CO)'])\n",
    "\n",
    "sns.boxplot(df1['PT08.S1(CO)'])"
   ]
  },
  {
   "cell_type": "markdown",
   "id": "fea2f419",
   "metadata": {},
   "source": [
    "outliers removed"
   ]
  },
  {
   "cell_type": "code",
   "execution_count": 220,
   "id": "2109a61f",
   "metadata": {},
   "outputs": [
    {
     "data": {
      "text/plain": [
       "<AxesSubplot:xlabel='C6H6(GT)'>"
      ]
     },
     "execution_count": 220,
     "metadata": {},
     "output_type": "execute_result"
    },
    {
     "data": {
      "image/png": "[encoded data removed]",
      "text/plain": [
       "<Figure size 432x288 with 1 Axes>"
      ]
     },
     "metadata": {
      "needs_background": "light"
     },
     "output_type": "display_data"
    }
   ],
   "source": [
    "sns.boxplot(df1['C6H6(GT)'])"
   ]
  },
  {
   "cell_type": "code",
   "execution_count": 221,
   "id": "c1f5bde8",
   "metadata": {},
   "outputs": [
    {
     "data": {
      "text/plain": [
       "281"
      ]
     },
     "execution_count": 221,
     "metadata": {},
     "output_type": "execute_result"
    }
   ],
   "source": [
    "q1=np.percentile(df1['C6H6(GT)'],25,interpolation=\"midpoint\")\n",
    "q3=np.percentile(df1['C6H6(GT)'],75,interpolation=\"midpoint\")\n",
    "IQR=q3-q1\n",
    "low_lim=q1-1.5*IQR\n",
    "up_lim=q3+1.5*IQR\n",
    "\n",
    "outlier = []\n",
    "for x in df1['C6H6(GT)']:\n",
    "    if (x > up_lim) or (x < low_lim):\n",
    "        outlier.append(x)\n",
    "len(outlier) "
   ]
  },
  {
   "cell_type": "code",
   "execution_count": 222,
   "id": "6053ff58",
   "metadata": {},
   "outputs": [
    {
     "data": {
      "text/plain": [
       "<AxesSubplot:xlabel='C6H6(GT)'>"
      ]
     },
     "execution_count": 222,
     "metadata": {},
     "output_type": "execute_result"
    },
    {
     "data": {
      "image/png": "[encoded data removed]",
      "text/plain": [
       "<Figure size 432x288 with 1 Axes>"
      ]
     },
     "metadata": {
      "needs_background": "light"
     },
     "output_type": "display_data"
    }
   ],
   "source": [
    "# Computing 90th percentiles and replacing the outliers\n",
    "ni_percentile = int(np.percentile(df1['C6H6(GT)'], 90))\n",
    "\n",
    "# the values above 90th percentile are replaced with 90th percentile value\n",
    "df1['C6H6(GT)'] = np.where(df1['C6H6(GT)']>ni_percentile, ni_percentile,df1['C6H6(GT)'])\n",
    "\n",
    "sns.boxplot(df1['C6H6(GT)'])"
   ]
  },
  {
   "cell_type": "markdown",
   "id": "5f8635c8",
   "metadata": {},
   "source": [
    "outliers removed"
   ]
  },
  {
   "cell_type": "code",
   "execution_count": 223,
   "id": "f1a53a4f",
   "metadata": {},
   "outputs": [
    {
     "data": {
      "text/plain": [
       "<AxesSubplot:xlabel='PT08.S2(NMHC)'>"
      ]
     },
     "execution_count": 223,
     "metadata": {},
     "output_type": "execute_result"
    },
    {
     "data": {
      "image/png": "[encoded data removed]",
      "text/plain": [
       "<Figure size 432x288 with 1 Axes>"
      ]
     },
     "metadata": {
      "needs_background": "light"
     },
     "output_type": "display_data"
    }
   ],
   "source": [
    "sns.boxplot(df1['PT08.S2(NMHC)'])"
   ]
  },
  {
   "cell_type": "code",
   "execution_count": 224,
   "id": "6dad3da5",
   "metadata": {},
   "outputs": [
    {
     "data": {
      "text/plain": [
       "92"
      ]
     },
     "execution_count": 224,
     "metadata": {},
     "output_type": "execute_result"
    }
   ],
   "source": [
    "q1=np.percentile(df1['PT08.S2(NMHC)'],25,interpolation=\"midpoint\")\n",
    "q3=np.percentile(df1['PT08.S2(NMHC)'],75,interpolation=\"midpoint\")\n",
    "IQR=q3-q1\n",
    "low_lim=q1-1.5*IQR\n",
    "up_lim=q3+1.5*IQR\n",
    "\n",
    "outlier = []\n",
    "for x in df1['PT08.S2(NMHC)']:\n",
    "    if (x > up_lim) or (x < low_lim):\n",
    "        outlier.append(x)\n",
    "len(outlier) "
   ]
  },
  {
   "cell_type": "code",
   "execution_count": 225,
   "id": "fc2a2188",
   "metadata": {},
   "outputs": [
    {
     "data": {
      "text/plain": [
       "<AxesSubplot:xlabel='PT08.S2(NMHC)'>"
      ]
     },
     "execution_count": 225,
     "metadata": {},
     "output_type": "execute_result"
    },
    {
     "data": {
      "image/png": "[encoded data removed]",
      "text/plain": [
       "<Figure size 432x288 with 1 Axes>"
      ]
     },
     "metadata": {
      "needs_background": "light"
     },
     "output_type": "display_data"
    }
   ],
   "source": [
    "# Computing 90th percentiles and replacing the outliers\n",
    "ni_percentile = int(np.percentile(df1['PT08.S2(NMHC)'], 90))\n",
    "\n",
    "# the values above 90th percentile are replaced with 90th percentile value\n",
    "df1['PT08.S2(NMHC)'] = np.where(df1['PT08.S2(NMHC)']>ni_percentile, ni_percentile,df1['PT08.S2(NMHC)'])\n",
    "\n",
    "sns.boxplot(df1['PT08.S2(NMHC)'])"
   ]
  },
  {
   "cell_type": "code",
   "execution_count": 226,
   "id": "4f49630b",
   "metadata": {},
   "outputs": [
    {
     "data": {
      "text/plain": [
       "<AxesSubplot:xlabel='NOx(GT)'>"
      ]
     },
     "execution_count": 226,
     "metadata": {},
     "output_type": "execute_result"
    },
    {
     "data": {
      "image/png": "[encoded data removed]",
      "text/plain": [
       "<Figure size 432x288 with 1 Axes>"
      ]
     },
     "metadata": {
      "needs_background": "light"
     },
     "output_type": "display_data"
    }
   ],
   "source": [
    "sns.boxplot(df1['NOx(GT)'])"
   ]
  },
  {
   "cell_type": "code",
   "execution_count": 227,
   "id": "041f9b28",
   "metadata": {},
   "outputs": [
    {
     "data": {
      "text/plain": [
       "778"
      ]
     },
     "execution_count": 227,
     "metadata": {},
     "output_type": "execute_result"
    }
   ],
   "source": [
    "q1=np.percentile(df1['NOx(GT)'],25,interpolation=\"midpoint\")\n",
    "q3=np.percentile(df1['NOx(GT)'],75,interpolation=\"midpoint\")\n",
    "IQR=q3-q1\n",
    "low_lim=q1-1.5*IQR\n",
    "up_lim=q3+1.5*IQR\n",
    "\n",
    "outlier = []\n",
    "for x in df1['NOx(GT)']:\n",
    "    if (x > up_lim) or (x < low_lim):\n",
    "        outlier.append(x)\n",
    "len(outlier) "
   ]
  },
  {
   "cell_type": "code",
   "execution_count": 228,
   "id": "e3a898f2",
   "metadata": {},
   "outputs": [
    {
     "data": {
      "text/plain": [
       "<AxesSubplot:xlabel='NOx(GT)'>"
      ]
     },
     "execution_count": 228,
     "metadata": {},
     "output_type": "execute_result"
    },
    {
     "data": {
      "image/png": "[encoded data removed]",
      "text/plain": [
       "<Figure size 432x288 with 1 Axes>"
      ]
     },
     "metadata": {
      "needs_background": "light"
     },
     "output_type": "display_data"
    }
   ],
   "source": [
    "# Computing 90th percentiles and replacing the outliers\n",
    "ni_percentile = int(np.percentile(df1['NOx(GT)'], 90))\n",
    "\n",
    "# the values above 90th percentile are replaced with 90th percentile value\n",
    "df1['NOx(GT)'] = np.where(df1['NOx(GT)']>ni_percentile, ni_percentile,df1['NOx(GT)'])\n",
    "\n",
    "sns.boxplot(df1['NOx(GT)'])"
   ]
  },
  {
   "cell_type": "markdown",
   "id": "a99a9d2d",
   "metadata": {},
   "source": [
    "outliers removed"
   ]
  },
  {
   "cell_type": "code",
   "execution_count": 229,
   "id": "7a72c930",
   "metadata": {},
   "outputs": [
    {
     "data": {
      "text/plain": [
       "<AxesSubplot:xlabel='PT08.S3(NOx)'>"
      ]
     },
     "execution_count": 229,
     "metadata": {},
     "output_type": "execute_result"
    },
    {
     "data": {
      "image/png": "[encoded data removed]",
      "text/plain": [
       "<Figure size 432x288 with 1 Axes>"
      ]
     },
     "metadata": {
      "needs_background": "light"
     },
     "output_type": "display_data"
    }
   ],
   "source": [
    "sns.boxplot(df1['PT08.S3(NOx)'])"
   ]
  },
  {
   "cell_type": "code",
   "execution_count": 230,
   "id": "5aeaf0dc",
   "metadata": {},
   "outputs": [
    {
     "data": {
      "text/plain": [
       "277"
      ]
     },
     "execution_count": 230,
     "metadata": {},
     "output_type": "execute_result"
    }
   ],
   "source": [
    "q1=np.percentile(df1['PT08.S3(NOx)'],25,interpolation=\"midpoint\")\n",
    "q3=np.percentile(df1['PT08.S3(NOx)'],75,interpolation=\"midpoint\")\n",
    "IQR=q3-q1\n",
    "low_lim=q1-1.5*IQR\n",
    "up_lim=q3+1.5*IQR\n",
    "\n",
    "outlier = []\n",
    "for x in df1['PT08.S3(NOx)']:\n",
    "    if (x > up_lim) or (x < low_lim):\n",
    "        outlier.append(x)\n",
    "len(outlier) "
   ]
  },
  {
   "cell_type": "code",
   "execution_count": 231,
   "id": "6062925c",
   "metadata": {},
   "outputs": [
    {
     "data": {
      "text/plain": [
       "<AxesSubplot:xlabel='PT08.S3(NOx)'>"
      ]
     },
     "execution_count": 231,
     "metadata": {},
     "output_type": "execute_result"
    },
    {
     "data": {
      "image/png": "[encoded data removed]",
      "text/plain": [
       "<Figure size 432x288 with 1 Axes>"
      ]
     },
     "metadata": {
      "needs_background": "light"
     },
     "output_type": "display_data"
    }
   ],
   "source": [
    "# Computing 90th percentiles and replacing the outliers\n",
    "ni_percentile = int(np.percentile(df1['PT08.S3(NOx)'], 90))\n",
    "\n",
    "# the values above 90th percentile are replaced with 90th percentile value\n",
    "df1['PT08.S3(NOx)'] = np.where(df1['PT08.S3(NOx)']>ni_percentile, ni_percentile,df1['PT08.S3(NOx)'])\n",
    "\n",
    "sns.boxplot(df1['PT08.S3(NOx)'])"
   ]
  },
  {
   "cell_type": "code",
   "execution_count": 233,
   "id": "a146751f",
   "metadata": {},
   "outputs": [
    {
     "data": {
      "text/plain": [
       "<AxesSubplot:xlabel='NO2(GT)'>"
      ]
     },
     "execution_count": 233,
     "metadata": {},
     "output_type": "execute_result"
    },
    {
     "data": {
      "image/png": "[encoded data removed]",
      "text/plain": [
       "<Figure size 432x288 with 1 Axes>"
      ]
     },
     "metadata": {
      "needs_background": "light"
     },
     "output_type": "display_data"
    }
   ],
   "source": [
    "sns.boxplot(df1['NO2(GT)'])"
   ]
  },
  {
   "cell_type": "code",
   "execution_count": 234,
   "id": "30fbaa15",
   "metadata": {},
   "outputs": [
    {
     "data": {
      "text/plain": [
       "379"
      ]
     },
     "execution_count": 234,
     "metadata": {},
     "output_type": "execute_result"
    }
   ],
   "source": [
    "q1=np.percentile(df1['NO2(GT)'],25,interpolation=\"midpoint\")\n",
    "q3=np.percentile(df1['NO2(GT)'],75,interpolation=\"midpoint\")\n",
    "IQR=q3-q1\n",
    "low_lim=q1-1.5*IQR\n",
    "up_lim=q3+1.5*IQR\n",
    "\n",
    "outlier = []\n",
    "for x in df1['NO2(GT)']:\n",
    "    if (x > up_lim) or (x < low_lim):\n",
    "        outlier.append(x)\n",
    "len(outlier) "
   ]
  },
  {
   "cell_type": "code",
   "execution_count": 235,
   "id": "4aaad967",
   "metadata": {},
   "outputs": [
    {
     "data": {
      "text/plain": [
       "<AxesSubplot:xlabel='NO2(GT)'>"
      ]
     },
     "execution_count": 235,
     "metadata": {},
     "output_type": "execute_result"
    },
    {
     "data": {
      "image/png": "[encoded data removed]",
      "text/plain": [
       "<Figure size 432x288 with 1 Axes>"
      ]
     },
     "metadata": {
      "needs_background": "light"
     },
     "output_type": "display_data"
    }
   ],
   "source": [
    "# Computing 90th percentiles and replacing the outliers\n",
    "ni_percentile = int(np.percentile(df1['NO2(GT)'], 90))\n",
    "tenth_percentile = int(np.percentile(df1['NO2(GT)'], 10))\n",
    "\n",
    "# the values above 90th percentile are replaced with 90th percentile value\n",
    "df1['NO2(GT)']= np.where(df1['NO2(GT)']>ni_percentile, ni_percentile,df1['NO2(GT)'])\n",
    "df1['NO2(GT)']= np.where(df1['NO2(GT)']<tenth_percentile, tenth_percentile,df1['NO2(GT)'])\n",
    "\n",
    "sns.boxplot(df1['NO2(GT)'])"
   ]
  },
  {
   "cell_type": "markdown",
   "id": "94dc6236",
   "metadata": {},
   "source": [
    "outliers removed"
   ]
  },
  {
   "cell_type": "code",
   "execution_count": 236,
   "id": "d8a75295",
   "metadata": {},
   "outputs": [
    {
     "data": {
      "text/plain": [
       "<AxesSubplot:xlabel='PT08.S4(NO2)'>"
      ]
     },
     "execution_count": 236,
     "metadata": {},
     "output_type": "execute_result"
    },
    {
     "data": {
      "image/png": "[encoded data removed]",
      "text/plain": [
       "<Figure size 432x288 with 1 Axes>"
      ]
     },
     "metadata": {
      "needs_background": "light"
     },
     "output_type": "display_data"
    }
   ],
   "source": [
    "sns.boxplot(df1['PT08.S4(NO2)'])"
   ]
  },
  {
   "cell_type": "code",
   "execution_count": 237,
   "id": "e1c4daa1",
   "metadata": {},
   "outputs": [
    {
     "data": {
      "text/plain": [
       "131"
      ]
     },
     "execution_count": 237,
     "metadata": {},
     "output_type": "execute_result"
    }
   ],
   "source": [
    "q1=np.percentile(df1['PT08.S4(NO2)'],25,interpolation=\"midpoint\")\n",
    "q3=np.percentile(df1['PT08.S4(NO2)'],75,interpolation=\"midpoint\")\n",
    "IQR=q3-q1\n",
    "low_lim=q1-1.5*IQR\n",
    "up_lim=q3+1.5*IQR\n",
    "\n",
    "outlier = []\n",
    "for x in df1['PT08.S4(NO2)']:\n",
    "    if (x > up_lim) or (x < low_lim):\n",
    "        outlier.append(x)\n",
    "len(outlier) "
   ]
  },
  {
   "cell_type": "code",
   "execution_count": 238,
   "id": "68e504f4",
   "metadata": {},
   "outputs": [
    {
     "data": {
      "text/plain": [
       "<AxesSubplot:xlabel='PT08.S4(NO2)'>"
      ]
     },
     "execution_count": 238,
     "metadata": {},
     "output_type": "execute_result"
    },
    {
     "data": {
      "image/png": "[encoded data removed]",
      "text/plain": [
       "<Figure size 432x288 with 1 Axes>"
      ]
     },
     "metadata": {
      "needs_background": "light"
     },
     "output_type": "display_data"
    }
   ],
   "source": [
    "# Computing 90th percentiles and replacing the outliers\n",
    "ni_percentile = int(np.percentile(df1['PT08.S4(NO2)'], 90))\n",
    "tenth_percentile = int(np.percentile(df1['PT08.S4(NO2)'], 10))\n",
    "\n",
    "# the values above 90th percentile are replaced with 90th percentile value\n",
    "df1['PT08.S4(NO2)']= np.where(df1['PT08.S4(NO2)']>ni_percentile, ni_percentile,df1['PT08.S4(NO2)'])\n",
    "df1['PT08.S4(NO2)']= np.where(df1['PT08.S4(NO2)']<tenth_percentile, tenth_percentile,df1['PT08.S4(NO2)'])\n",
    "\n",
    "sns.boxplot(df1['PT08.S4(NO2)'])"
   ]
  },
  {
   "cell_type": "markdown",
   "id": "5c4df5ac",
   "metadata": {},
   "source": [
    "outliers removed"
   ]
  },
  {
   "cell_type": "code",
   "execution_count": 239,
   "id": "bba8f6ac",
   "metadata": {},
   "outputs": [
    {
     "data": {
      "text/plain": [
       "<AxesSubplot:xlabel='PT08.S5(O3)'>"
      ]
     },
     "execution_count": 239,
     "metadata": {},
     "output_type": "execute_result"
    },
    {
     "data": {
      "image/png": "[encoded data removed]",
      "text/plain": [
       "<Figure size 432x288 with 1 Axes>"
      ]
     },
     "metadata": {
      "needs_background": "light"
     },
     "output_type": "display_data"
    }
   ],
   "source": [
    "sns.boxplot(df1['PT08.S5(O3)']) "
   ]
  },
  {
   "cell_type": "code",
   "execution_count": 240,
   "id": "910ed90d",
   "metadata": {},
   "outputs": [
    {
     "data": {
      "text/plain": [
       "130"
      ]
     },
     "execution_count": 240,
     "metadata": {},
     "output_type": "execute_result"
    }
   ],
   "source": [
    "q1=np.percentile(df1['PT08.S5(O3)'],25,interpolation=\"midpoint\")\n",
    "q3=np.percentile(df1['PT08.S5(O3)'],75,interpolation=\"midpoint\")\n",
    "IQR=q3-q1\n",
    "low_lim=q1-1.5*IQR\n",
    "up_lim=q3+1.5*IQR\n",
    "\n",
    "outlier = []\n",
    "for x in df1['PT08.S5(O3)']:\n",
    "    if (x > up_lim) or (x < low_lim):\n",
    "        outlier.append(x)\n",
    "len(outlier) "
   ]
  },
  {
   "cell_type": "code",
   "execution_count": 241,
   "id": "85141207",
   "metadata": {},
   "outputs": [
    {
     "data": {
      "text/plain": [
       "<AxesSubplot:xlabel='PT08.S5(O3)'>"
      ]
     },
     "execution_count": 241,
     "metadata": {},
     "output_type": "execute_result"
    },
    {
     "data": {
      "image/png": "[encoded data removed]",
      "text/plain": [
       "<Figure size 432x288 with 1 Axes>"
      ]
     },
     "metadata": {
      "needs_background": "light"
     },
     "output_type": "display_data"
    }
   ],
   "source": [
    "# Computing 90th percentiles and replacing the outliers\n",
    "ni_percentile = int(np.percentile(df1['PT08.S5(O3)'], 90))\n",
    "\n",
    "# the values above 90th percentile are replaced with 90th percentile value\n",
    "df1['PT08.S5(O3)']= np.where(df1['PT08.S5(O3)']>ni_percentile, ni_percentile,df1['PT08.S5(O3)'])\n",
    "\n",
    "sns.boxplot(df1['PT08.S5(O3)'])"
   ]
  },
  {
   "cell_type": "markdown",
   "id": "e7e4f552",
   "metadata": {},
   "source": [
    "outliers removed"
   ]
  },
  {
   "cell_type": "code",
   "execution_count": 242,
   "id": "7ba08315",
   "metadata": {},
   "outputs": [
    {
     "data": {
      "text/plain": [
       "<AxesSubplot:xlabel='T'>"
      ]
     },
     "execution_count": 242,
     "metadata": {},
     "output_type": "execute_result"
    },
    {
     "data": {
      "image/png": "[encoded data removed]",
      "text/plain": [
       "<Figure size 432x288 with 1 Axes>"
      ]
     },
     "metadata": {
      "needs_background": "light"
     },
     "output_type": "display_data"
    }
   ],
   "source": [
    "sns.boxplot(df1['T']) "
   ]
  },
  {
   "cell_type": "code",
   "execution_count": 243,
   "id": "f3e6703c",
   "metadata": {},
   "outputs": [
    {
     "data": {
      "text/plain": [
       "12"
      ]
     },
     "execution_count": 243,
     "metadata": {},
     "output_type": "execute_result"
    }
   ],
   "source": [
    "q1=np.percentile(df1['T'],25,interpolation=\"midpoint\")\n",
    "q3=np.percentile(df1['T'],75,interpolation=\"midpoint\")\n",
    "IQR=q3-q1\n",
    "low_lim=q1-1.5*IQR\n",
    "up_lim=q3+1.5*IQR\n",
    "\n",
    "outlier = []\n",
    "for x in df1['T']:\n",
    "    if (x > up_lim) or (x < low_lim):\n",
    "        outlier.append(x)\n",
    "len(outlier) "
   ]
  },
  {
   "cell_type": "code",
   "execution_count": 244,
   "id": "efdf1751",
   "metadata": {},
   "outputs": [
    {
     "data": {
      "text/plain": [
       "<AxesSubplot:xlabel='T'>"
      ]
     },
     "execution_count": 244,
     "metadata": {},
     "output_type": "execute_result"
    },
    {
     "data": {
      "image/png": "[encoded data removed]",
      "text/plain": [
       "<Figure size 432x288 with 1 Axes>"
      ]
     },
     "metadata": {
      "needs_background": "light"
     },
     "output_type": "display_data"
    }
   ],
   "source": [
    "# remove the outliers \n",
    "df1 = df1[(df1['T'] > low_lim) & (df1['T'] < up_lim)]\n",
    "sns.boxplot(df1['T']) "
   ]
  },
  {
   "cell_type": "markdown",
   "id": "8ed1328d",
   "metadata": {},
   "source": [
    "outliers removed"
   ]
  },
  {
   "cell_type": "code",
   "execution_count": 245,
   "id": "bd1fab54",
   "metadata": {},
   "outputs": [
    {
     "data": {
      "text/plain": [
       "<AxesSubplot:xlabel='RH'>"
      ]
     },
     "execution_count": 245,
     "metadata": {},
     "output_type": "execute_result"
    },
    {
     "data": {
      "image/png": "[encoded data removed]",
      "text/plain": [
       "<Figure size 432x288 with 1 Axes>"
      ]
     },
     "metadata": {
      "needs_background": "light"
     },
     "output_type": "display_data"
    }
   ],
   "source": [
    "sns.boxplot(df1['RH']) "
   ]
  },
  {
   "cell_type": "markdown",
   "id": "7ddfd702",
   "metadata": {},
   "source": [
    "no outliers in RH"
   ]
  },
  {
   "cell_type": "code",
   "execution_count": 246,
   "id": "44293271",
   "metadata": {},
   "outputs": [
    {
     "data": {
      "text/plain": [
       "<AxesSubplot:xlabel='AH'>"
      ]
     },
     "execution_count": 246,
     "metadata": {},
     "output_type": "execute_result"
    },
    {
     "data": {
      "image/png": "[encoded data removed]",
      "text/plain": [
       "<Figure size 432x288 with 1 Axes>"
      ]
     },
     "metadata": {
      "needs_background": "light"
     },
     "output_type": "display_data"
    }
   ],
   "source": [
    "sns.boxplot(df1['AH']) "
   ]
  },
  {
   "cell_type": "code",
   "execution_count": 247,
   "id": "80b9ecbc",
   "metadata": {},
   "outputs": [
    {
     "data": {
      "text/plain": [
       "7"
      ]
     },
     "execution_count": 247,
     "metadata": {},
     "output_type": "execute_result"
    }
   ],
   "source": [
    "q1=np.percentile(df1['AH'],25,interpolation=\"midpoint\")\n",
    "q3=np.percentile(df1['AH'],75,interpolation=\"midpoint\")\n",
    "IQR=q3-q1\n",
    "low_lim=q1-1.5*IQR\n",
    "up_lim=q3+1.5*IQR\n",
    "\n",
    "outlier = []\n",
    "for x in df1['AH']:\n",
    "    if (x > up_lim) or (x < low_lim):\n",
    "        outlier.append(x)\n",
    "len(outlier)"
   ]
  },
  {
   "cell_type": "code",
   "execution_count": 248,
   "id": "961cf637",
   "metadata": {},
   "outputs": [
    {
     "data": {
      "text/plain": [
       "<AxesSubplot:xlabel='AH'>"
      ]
     },
     "execution_count": 248,
     "metadata": {},
     "output_type": "execute_result"
    },
    {
     "data": {
      "image/png": "[encoded data removed]",
      "text/plain": [
       "<Figure size 432x288 with 1 Axes>"
      ]
     },
     "metadata": {
      "needs_background": "light"
     },
     "output_type": "display_data"
    }
   ],
   "source": [
    "# remove the outliers\n",
    "df1 = df1[(df1['AH'] > low_lim) & (df1['AH'] < up_lim)]\n",
    "sns.boxplot(df1['AH']) "
   ]
  },
  {
   "cell_type": "markdown",
   "id": "24a8d589",
   "metadata": {},
   "source": [
    "outliers removed"
   ]
  },
  {
   "cell_type": "markdown",
   "id": "e2c74880",
   "metadata": {},
   "source": [
    "# 3)Standardization"
   ]
  },
  {
   "cell_type": "code",
   "execution_count": 94,
   "id": "d01445e8",
   "metadata": {},
   "outputs": [
    {
     "data": {
      "text/html": [
       "<div>\n",
       "<style scoped>\n",
       "    .dataframe tbody tr th:only-of-type {\n",
       "        vertical-align: middle;\n",
       "    }\n",
       "\n",
       "    .dataframe tbody tr th {\n",
       "        vertical-align: top;\n",
       "    }\n",
       "\n",
       "    .dataframe thead th {\n",
       "        text-align: right;\n",
       "    }\n",
       "</style>\n",
       "<table border=\"1\" class=\"dataframe\">\n",
       "  <thead>\n",
       "    <tr style=\"text-align: right;\">\n",
       "      <th></th>\n",
       "      <th>CO(GT)</th>\n",
       "      <th>PT08.S1(CO)</th>\n",
       "      <th>C6H6(GT)</th>\n",
       "      <th>PT08.S2(NMHC)</th>\n",
       "      <th>NOx(GT)</th>\n",
       "      <th>PT08.S3(NOx)</th>\n",
       "      <th>NO2(GT)</th>\n",
       "      <th>PT08.S4(NO2)</th>\n",
       "      <th>PT08.S5(O3)</th>\n",
       "      <th>T</th>\n",
       "      <th>RH</th>\n",
       "      <th>AH</th>\n",
       "    </tr>\n",
       "  </thead>\n",
       "  <tbody>\n",
       "    <tr>\n",
       "      <th>0</th>\n",
       "      <td>2.6</td>\n",
       "      <td>1360.00</td>\n",
       "      <td>11.881723</td>\n",
       "      <td>1045.50</td>\n",
       "      <td>166.0</td>\n",
       "      <td>1056.25</td>\n",
       "      <td>113.0</td>\n",
       "      <td>993.0</td>\n",
       "      <td>1267.50</td>\n",
       "      <td>13.60</td>\n",
       "      <td>48.875001</td>\n",
       "      <td>0.757754</td>\n",
       "    </tr>\n",
       "    <tr>\n",
       "      <th>1</th>\n",
       "      <td>2.0</td>\n",
       "      <td>1292.25</td>\n",
       "      <td>9.397165</td>\n",
       "      <td>954.75</td>\n",
       "      <td>103.0</td>\n",
       "      <td>1146.00</td>\n",
       "      <td>92.0</td>\n",
       "      <td>993.0</td>\n",
       "      <td>972.25</td>\n",
       "      <td>13.30</td>\n",
       "      <td>47.700000</td>\n",
       "      <td>0.725487</td>\n",
       "    </tr>\n",
       "    <tr>\n",
       "      <th>2</th>\n",
       "      <td>2.2</td>\n",
       "      <td>1402.00</td>\n",
       "      <td>8.997817</td>\n",
       "      <td>939.25</td>\n",
       "      <td>131.0</td>\n",
       "      <td>1140.00</td>\n",
       "      <td>114.0</td>\n",
       "      <td>993.0</td>\n",
       "      <td>1074.00</td>\n",
       "      <td>11.90</td>\n",
       "      <td>53.975000</td>\n",
       "      <td>0.750239</td>\n",
       "    </tr>\n",
       "    <tr>\n",
       "      <th>3</th>\n",
       "      <td>2.2</td>\n",
       "      <td>1375.50</td>\n",
       "      <td>9.228796</td>\n",
       "      <td>948.25</td>\n",
       "      <td>172.0</td>\n",
       "      <td>1092.00</td>\n",
       "      <td>122.0</td>\n",
       "      <td>993.0</td>\n",
       "      <td>1203.25</td>\n",
       "      <td>11.00</td>\n",
       "      <td>60.000000</td>\n",
       "      <td>0.786713</td>\n",
       "    </tr>\n",
       "    <tr>\n",
       "      <th>4</th>\n",
       "      <td>1.6</td>\n",
       "      <td>1272.25</td>\n",
       "      <td>6.518224</td>\n",
       "      <td>835.50</td>\n",
       "      <td>131.0</td>\n",
       "      <td>1146.00</td>\n",
       "      <td>116.0</td>\n",
       "      <td>993.0</td>\n",
       "      <td>1110.00</td>\n",
       "      <td>11.15</td>\n",
       "      <td>59.575001</td>\n",
       "      <td>0.788794</td>\n",
       "    </tr>\n",
       "  </tbody>\n",
       "</table>\n",
       "</div>"
      ],
      "text/plain": [
       "   CO(GT)  PT08.S1(CO)   C6H6(GT)  PT08.S2(NMHC)  NOx(GT)  PT08.S3(NOx)  \\\n",
       "0     2.6      1360.00  11.881723        1045.50    166.0       1056.25   \n",
       "1     2.0      1292.25   9.397165         954.75    103.0       1146.00   \n",
       "2     2.2      1402.00   8.997817         939.25    131.0       1140.00   \n",
       "3     2.2      1375.50   9.228796         948.25    172.0       1092.00   \n",
       "4     1.6      1272.25   6.518224         835.50    131.0       1146.00   \n",
       "\n",
       "   NO2(GT)  PT08.S4(NO2)  PT08.S5(O3)      T         RH        AH  \n",
       "0    113.0         993.0      1267.50  13.60  48.875001  0.757754  \n",
       "1     92.0         993.0       972.25  13.30  47.700000  0.725487  \n",
       "2    114.0         993.0      1074.00  11.90  53.975000  0.750239  \n",
       "3    122.0         993.0      1203.25  11.00  60.000000  0.786713  \n",
       "4    116.0         993.0      1110.00  11.15  59.575001  0.788794  "
      ]
     },
     "execution_count": 94,
     "metadata": {},
     "output_type": "execute_result"
    }
   ],
   "source": [
    "from sklearn.preprocessing import StandardScaler\n",
    "scaler=StandardScaler()\n",
    "df1_scaler=scaler.fit_transform(df1)\n",
    "df1.head()"
   ]
  },
  {
   "cell_type": "markdown",
   "id": "29cf57f7",
   "metadata": {},
   "source": [
    "# * Exploratory Data Analysis"
   ]
  },
  {
   "cell_type": "code",
   "execution_count": 95,
   "id": "c242d3b0",
   "metadata": {},
   "outputs": [
    {
     "data": {
      "text/html": [
       "<div>\n",
       "<style scoped>\n",
       "    .dataframe tbody tr th:only-of-type {\n",
       "        vertical-align: middle;\n",
       "    }\n",
       "\n",
       "    .dataframe tbody tr th {\n",
       "        vertical-align: top;\n",
       "    }\n",
       "\n",
       "    .dataframe thead th {\n",
       "        text-align: right;\n",
       "    }\n",
       "</style>\n",
       "<table border=\"1\" class=\"dataframe\">\n",
       "  <thead>\n",
       "    <tr style=\"text-align: right;\">\n",
       "      <th></th>\n",
       "      <th>CO(GT)</th>\n",
       "      <th>PT08.S1(CO)</th>\n",
       "      <th>C6H6(GT)</th>\n",
       "      <th>PT08.S2(NMHC)</th>\n",
       "      <th>NOx(GT)</th>\n",
       "      <th>PT08.S3(NOx)</th>\n",
       "      <th>NO2(GT)</th>\n",
       "      <th>PT08.S4(NO2)</th>\n",
       "      <th>PT08.S5(O3)</th>\n",
       "      <th>T</th>\n",
       "      <th>RH</th>\n",
       "      <th>AH</th>\n",
       "    </tr>\n",
       "  </thead>\n",
       "  <tbody>\n",
       "    <tr>\n",
       "      <th>count</th>\n",
       "      <td>9338.000000</td>\n",
       "      <td>9338.000000</td>\n",
       "      <td>9338.000000</td>\n",
       "      <td>9338.000000</td>\n",
       "      <td>9338.000000</td>\n",
       "      <td>9338.000000</td>\n",
       "      <td>9338.000000</td>\n",
       "      <td>9338.0</td>\n",
       "      <td>9338.000000</td>\n",
       "      <td>9338.000000</td>\n",
       "      <td>9338.000000</td>\n",
       "      <td>9338.000000</td>\n",
       "    </tr>\n",
       "    <tr>\n",
       "      <th>mean</th>\n",
       "      <td>1.846166</td>\n",
       "      <td>1085.305285</td>\n",
       "      <td>9.398463</td>\n",
       "      <td>922.448285</td>\n",
       "      <td>214.574084</td>\n",
       "      <td>813.356536</td>\n",
       "      <td>110.636303</td>\n",
       "      <td>993.0</td>\n",
       "      <td>997.658385</td>\n",
       "      <td>18.255885</td>\n",
       "      <td>49.280734</td>\n",
       "      <td>1.023374</td>\n",
       "    </tr>\n",
       "    <tr>\n",
       "      <th>std</th>\n",
       "      <td>0.811440</td>\n",
       "      <td>185.181467</td>\n",
       "      <td>5.815711</td>\n",
       "      <td>230.418994</td>\n",
       "      <td>138.568920</td>\n",
       "      <td>202.139463</td>\n",
       "      <td>34.423505</td>\n",
       "      <td>0.0</td>\n",
       "      <td>343.475778</td>\n",
       "      <td>8.619249</td>\n",
       "      <td>16.937178</td>\n",
       "      <td>0.394997</td>\n",
       "    </tr>\n",
       "    <tr>\n",
       "      <th>min</th>\n",
       "      <td>0.100000</td>\n",
       "      <td>647.250000</td>\n",
       "      <td>0.149048</td>\n",
       "      <td>383.250000</td>\n",
       "      <td>2.000000</td>\n",
       "      <td>322.000000</td>\n",
       "      <td>58.000000</td>\n",
       "      <td>993.0</td>\n",
       "      <td>221.000000</td>\n",
       "      <td>-1.900000</td>\n",
       "      <td>9.175000</td>\n",
       "      <td>0.184679</td>\n",
       "    </tr>\n",
       "    <tr>\n",
       "      <th>25%</th>\n",
       "      <td>1.200000</td>\n",
       "      <td>941.250000</td>\n",
       "      <td>4.581919</td>\n",
       "      <td>742.000000</td>\n",
       "      <td>112.000000</td>\n",
       "      <td>665.062500</td>\n",
       "      <td>85.925000</td>\n",
       "      <td>993.0</td>\n",
       "      <td>741.250000</td>\n",
       "      <td>12.025000</td>\n",
       "      <td>36.599999</td>\n",
       "      <td>0.745831</td>\n",
       "    </tr>\n",
       "    <tr>\n",
       "      <th>50%</th>\n",
       "      <td>1.800000</td>\n",
       "      <td>1063.000000</td>\n",
       "      <td>8.239851</td>\n",
       "      <td>909.000000</td>\n",
       "      <td>179.800000</td>\n",
       "      <td>805.500000</td>\n",
       "      <td>109.000000</td>\n",
       "      <td>993.0</td>\n",
       "      <td>963.250000</td>\n",
       "      <td>17.750000</td>\n",
       "      <td>49.550000</td>\n",
       "      <td>0.995395</td>\n",
       "    </tr>\n",
       "    <tr>\n",
       "      <th>75%</th>\n",
       "      <td>2.600000</td>\n",
       "      <td>1221.437500</td>\n",
       "      <td>13.636091</td>\n",
       "      <td>1104.750000</td>\n",
       "      <td>284.800000</td>\n",
       "      <td>960.750000</td>\n",
       "      <td>133.000000</td>\n",
       "      <td>993.0</td>\n",
       "      <td>1255.625000</td>\n",
       "      <td>24.000000</td>\n",
       "      <td>61.875001</td>\n",
       "      <td>1.295626</td>\n",
       "    </tr>\n",
       "    <tr>\n",
       "      <th>max</th>\n",
       "      <td>3.000000</td>\n",
       "      <td>1406.000000</td>\n",
       "      <td>20.000000</td>\n",
       "      <td>1298.000000</td>\n",
       "      <td>497.000000</td>\n",
       "      <td>1146.000000</td>\n",
       "      <td>171.000000</td>\n",
       "      <td>993.0</td>\n",
       "      <td>1577.000000</td>\n",
       "      <td>42.049999</td>\n",
       "      <td>88.725000</td>\n",
       "      <td>2.119450</td>\n",
       "    </tr>\n",
       "  </tbody>\n",
       "</table>\n",
       "</div>"
      ],
      "text/plain": [
       "            CO(GT)  PT08.S1(CO)     C6H6(GT)  PT08.S2(NMHC)      NOx(GT)  \\\n",
       "count  9338.000000  9338.000000  9338.000000    9338.000000  9338.000000   \n",
       "mean      1.846166  1085.305285     9.398463     922.448285   214.574084   \n",
       "std       0.811440   185.181467     5.815711     230.418994   138.568920   \n",
       "min       0.100000   647.250000     0.149048     383.250000     2.000000   \n",
       "25%       1.200000   941.250000     4.581919     742.000000   112.000000   \n",
       "50%       1.800000  1063.000000     8.239851     909.000000   179.800000   \n",
       "75%       2.600000  1221.437500    13.636091    1104.750000   284.800000   \n",
       "max       3.000000  1406.000000    20.000000    1298.000000   497.000000   \n",
       "\n",
       "       PT08.S3(NOx)      NO2(GT)  PT08.S4(NO2)  PT08.S5(O3)            T  \\\n",
       "count   9338.000000  9338.000000        9338.0  9338.000000  9338.000000   \n",
       "mean     813.356536   110.636303         993.0   997.658385    18.255885   \n",
       "std      202.139463    34.423505           0.0   343.475778     8.619249   \n",
       "min      322.000000    58.000000         993.0   221.000000    -1.900000   \n",
       "25%      665.062500    85.925000         993.0   741.250000    12.025000   \n",
       "50%      805.500000   109.000000         993.0   963.250000    17.750000   \n",
       "75%      960.750000   133.000000         993.0  1255.625000    24.000000   \n",
       "max     1146.000000   171.000000         993.0  1577.000000    42.049999   \n",
       "\n",
       "                RH           AH  \n",
       "count  9338.000000  9338.000000  \n",
       "mean     49.280734     1.023374  \n",
       "std      16.937178     0.394997  \n",
       "min       9.175000     0.184679  \n",
       "25%      36.599999     0.745831  \n",
       "50%      49.550000     0.995395  \n",
       "75%      61.875001     1.295626  \n",
       "max      88.725000     2.119450  "
      ]
     },
     "execution_count": 95,
     "metadata": {},
     "output_type": "execute_result"
    }
   ],
   "source": [
    "df1.describe()"
   ]
  },
  {
   "cell_type": "markdown",
   "id": "1d96f920",
   "metadata": {},
   "source": [
    "# 1) Univariate Analysis"
   ]
  },
  {
   "cell_type": "code",
   "execution_count": 249,
   "id": "8dfef5e6",
   "metadata": {},
   "outputs": [
    {
     "data": {
      "image/png": "[encoded data removed]",
      "text/plain": [
       "<Figure size 1080x432 with 5 Axes>"
      ]
     },
     "metadata": {
      "needs_background": "light"
     },
     "output_type": "display_data"
    }
   ],
   "source": [
    "plt.subplot(151)\n",
    "df1['CO(GT)'].plot.box(figsize=(15,6))\n",
    "plt.tight_layout(pad=0.5)\n",
    "\n",
    "plt.subplot(152)\n",
    "df1['PT08.S1(CO)'].plot.box()\n",
    "plt.tight_layout(pad=0.5)\n",
    "\n",
    "plt.subplot(153)\n",
    "df1['C6H6(GT)'].plot.box()\n",
    "plt.tight_layout(pad=0.5)\n",
    "\n",
    "plt.subplot(154)\n",
    "df1['PT08.S2(NMHC)'].plot.box()\n",
    "plt.tight_layout(pad=0.5)\n",
    "\n",
    "plt.subplot(155)\n",
    "df1['PT08.S5(O3)'].plot.box()\n",
    "plt.tight_layout(pad=0.5)"
   ]
  },
  {
   "cell_type": "code",
   "execution_count": 250,
   "id": "3602e462",
   "metadata": {},
   "outputs": [
    {
     "data": {
      "image/png": "[encoded data removed]",
      "text/plain": [
       "<Figure size 1080x432 with 3 Axes>"
      ]
     },
     "metadata": {
      "needs_background": "light"
     },
     "output_type": "display_data"
    }
   ],
   "source": [
    "# Perform Univariate Analysis using Density plot\n",
    "plt.subplot(131)\n",
    "df1['T'].plot.kde(figsize=(15,6))\n",
    "plt.xlabel(\"T\")\n",
    "plt.tight_layout(pad=0.5)\n",
    "\n",
    "plt.subplot(132)\n",
    "df1['RH'].plot.kde()\n",
    "plt.xlabel(\"RH\")\n",
    "plt.tight_layout(pad=0.5)\n",
    "\n",
    "plt.subplot(133)\n",
    "df1['AH'].plot.kde()\n",
    "plt.xlabel(\"AH\")\n",
    "plt.tight_layout(pad=0.5)"
   ]
  },
  {
   "cell_type": "markdown",
   "id": "9309ba90",
   "metadata": {},
   "source": [
    "# 2) Bivariate Analysis"
   ]
  },
  {
   "cell_type": "code",
   "execution_count": 251,
   "id": "c8d92084",
   "metadata": {},
   "outputs": [
    {
     "data": {
      "text/plain": [
       "<seaborn.axisgrid.PairGrid at 0x1d0f1d32b50>"
      ]
     },
     "execution_count": 251,
     "metadata": {},
     "output_type": "execute_result"
    },
    {
     "data": {
      "image/png": "[encoded data removed]",
      "text/plain": [
       "<Figure size 900x360 with 10 Axes>"
      ]
     },
     "metadata": {
      "needs_background": "light"
     },
     "output_type": "display_data"
    }
   ],
   "source": [
    "sns.pairplot( df1,\n",
    "    x_vars=['PT08.S1(CO)','PT08.S2(NMHC)','PT08.S3(NOx)','PT08.S4(NO2)','PT08.S5(O3)'],\n",
    "    y_vars=[\"T\", \"RH\"]\n",
    ")"
   ]
  },
  {
   "cell_type": "markdown",
   "id": "676d1c75",
   "metadata": {},
   "source": [
    "# * Modelling"
   ]
  },
  {
   "cell_type": "code",
   "execution_count": 252,
   "id": "8efb508f",
   "metadata": {},
   "outputs": [],
   "source": [
    "# Define independent and dependent variables\n",
    "x=df1.drop(['RH'],axis=1)\n",
    "y=pd.DataFrame(df1['RH'])\n",
    "# Splitting the dataset\n",
    "from sklearn.model_selection import train_test_split\n",
    "x_train,x_test,y_train,y_test=train_test_split(x,y,test_size=0.3,random_state=42)"
   ]
  },
  {
   "cell_type": "code",
   "execution_count": 253,
   "id": "37bdd63c",
   "metadata": {},
   "outputs": [
    {
     "data": {
      "text/plain": [
       "(6536, 11)"
      ]
     },
     "execution_count": 253,
     "metadata": {},
     "output_type": "execute_result"
    }
   ],
   "source": [
    "x_train.shape"
   ]
  },
  {
   "cell_type": "code",
   "execution_count": 254,
   "id": "44595174",
   "metadata": {},
   "outputs": [
    {
     "data": {
      "text/plain": [
       "(2802, 11)"
      ]
     },
     "execution_count": 254,
     "metadata": {},
     "output_type": "execute_result"
    }
   ],
   "source": [
    "x_test.shape"
   ]
  },
  {
   "cell_type": "code",
   "execution_count": 255,
   "id": "6f25c3ce",
   "metadata": {},
   "outputs": [
    {
     "data": {
      "text/plain": [
       "(6536, 1)"
      ]
     },
     "execution_count": 255,
     "metadata": {},
     "output_type": "execute_result"
    }
   ],
   "source": [
    "y_train.shape"
   ]
  },
  {
   "cell_type": "code",
   "execution_count": 256,
   "id": "c423e871",
   "metadata": {},
   "outputs": [
    {
     "data": {
      "text/plain": [
       "(2802, 1)"
      ]
     },
     "execution_count": 256,
     "metadata": {},
     "output_type": "execute_result"
    }
   ],
   "source": [
    "y_test.shape"
   ]
  },
  {
   "cell_type": "markdown",
   "id": "c2c80bc9",
   "metadata": {},
   "source": [
    "our objective is to predict the 'RH' relative humidity from the given features, we go for Regression."
   ]
  },
  {
   "cell_type": "markdown",
   "id": "6be189b0",
   "metadata": {},
   "source": [
    "# a) RandomForest Regressor Model"
   ]
  },
  {
   "cell_type": "code",
   "execution_count": 258,
   "id": "788093ba",
   "metadata": {},
   "outputs": [
    {
     "name": "stdout",
     "output_type": "stream",
     "text": [
      "MSE is: 0.3627478562357246\n",
      "R squared value is: 0.9987455638456039\n"
     ]
    }
   ],
   "source": [
    "# Build the Model\n",
    "from sklearn.ensemble import RandomForestRegressor\n",
    "rf=RandomForestRegressor()\n",
    "rf.fit(x_train,y_train)\n",
    "y_pred=rf.predict(x_test)\n",
    "\n",
    "# Evaluation of the model\n",
    "from sklearn.metrics import  mean_squared_error, r2_score\n",
    "print('MSE is:',mean_squared_error(y_test,y_pred))\n",
    "print('R squared value is:',r2_score(y_test,y_pred))"
   ]
  },
  {
   "cell_type": "markdown",
   "id": "5cbfe60c",
   "metadata": {},
   "source": [
    "# b) DecisionTree Regressor Model"
   ]
  },
  {
   "cell_type": "code",
   "execution_count": 259,
   "id": "7fd33dc4",
   "metadata": {},
   "outputs": [
    {
     "name": "stdout",
     "output_type": "stream",
     "text": [
      "MSE is: 1.4645535234939073\n",
      "R squared value is: 0.9949353556241965\n"
     ]
    }
   ],
   "source": [
    "# Build the Model\n",
    "from sklearn.tree import DecisionTreeRegressor\n",
    "dt=DecisionTreeRegressor()\n",
    "dt.fit(x_train,y_train)\n",
    "y_pred=dt.predict(x_test)\n",
    "\n",
    "# Evaluation of the model\n",
    "print('MSE is:',mean_squared_error(y_test,y_pred))\n",
    "print('R squared value is:',r2_score(y_test,y_pred))"
   ]
  },
  {
   "cell_type": "markdown",
   "id": "83026ef2",
   "metadata": {},
   "source": [
    "# c) LinearRegression Model"
   ]
  },
  {
   "cell_type": "code",
   "execution_count": 260,
   "id": "e1d00a5b",
   "metadata": {},
   "outputs": [
    {
     "name": "stdout",
     "output_type": "stream",
     "text": [
      "MSE is: 35.733417462764336\n",
      "R squared value is: 0.8764285163513318\n"
     ]
    }
   ],
   "source": [
    "# Build the Model\n",
    "from sklearn import linear_model\n",
    "lr=linear_model.LinearRegression()\n",
    "lr.fit(x_train,y_train)\n",
    "y_pred=lr.predict(x_test)\n",
    "\n",
    "# Evaluation of the model\n",
    "print('MSE is:',mean_squared_error(y_test,y_pred))\n",
    "print('R squared value is:',r2_score(y_test,y_pred))"
   ]
  },
  {
   "cell_type": "markdown",
   "id": "58119d4d",
   "metadata": {},
   "source": [
    "From the above three model comparison, the model with least MSE value is RandomForest Regressor Model.Hence, we choose RandomForest Regressor Model for fine tuning."
   ]
  },
  {
   "cell_type": "markdown",
   "id": "de2e945a",
   "metadata": {},
   "source": [
    "# * Model Fine Tuning"
   ]
  },
  {
   "cell_type": "code",
   "execution_count": 261,
   "id": "582da6cf",
   "metadata": {},
   "outputs": [
    {
     "name": "stdout",
     "output_type": "stream",
     "text": [
      "Parameters currently in use:\n",
      "\n",
      "{'bootstrap': True, 'ccp_alpha': 0.0, 'criterion': 'mse', 'max_depth': None, 'max_features': 'auto', 'max_leaf_nodes': None, 'max_samples': None, 'min_impurity_decrease': 0.0, 'min_impurity_split': None, 'min_samples_leaf': 1, 'min_samples_split': 2, 'min_weight_fraction_leaf': 0.0, 'n_estimators': 100, 'n_jobs': None, 'oob_score': False, 'random_state': None, 'verbose': 0, 'warm_start': False}\n",
      "\n",
      " MSE is: 0.3512051676897531\n",
      "R squared value is: 0.9987854801830325\n"
     ]
    }
   ],
   "source": [
    "# RandomRegressor Model\n",
    "from sklearn.ensemble import RandomForestRegressor\n",
    "print('Parameters currently in use:\\n')\n",
    "print(rf.get_params())\n",
    "\n",
    "# Fine tuning the hyper parameters of the model\n",
    "rf1=RandomForestRegressor(n_estimators = 1000, oob_score = True,n_jobs = 1,random_state =1)  \n",
    "rf1.fit(x_train,y_train)\n",
    "y_pred=rf1.predict(x_test)\n",
    "\n",
    "print('\\n MSE is:',mean_squared_error(y_test,y_pred))\n",
    "print('R squared value is:',r2_score(y_test,y_pred))"
   ]
  },
  {
   "cell_type": "markdown",
   "id": "5f4aa9ef",
   "metadata": {},
   "source": [
    "After fine tuning the hyperparameter, the MSE value has reduced from 0.364 to 0.351."
   ]
  },
  {
   "cell_type": "markdown",
   "id": "4dda34a8",
   "metadata": {},
   "source": [
    "RandomForestRegressor Model is good for 'RH'"
   ]
  },
  {
   "cell_type": "code",
   "execution_count": null,
   "id": "661ff8be",
   "metadata": {},
   "outputs": [],
   "source": []
  }
 ],
 "metadata": {
  "kernelspec": {
   "display_name": "Python 3",
   "language": "python",
   "name": "python3"
  },
  "language_info": {
   "codemirror_mode": {
    "name": "ipython",
    "version": 3
   },
   "file_extension": ".py",
   "mimetype": "text/x-python",
   "name": "python",
   "nbconvert_exporter": "python",
   "pygments_lexer": "ipython3",
   "version": "3.8.8"
  }
 },
 "nbformat": 4,
 "nbformat_minor": 5
}
